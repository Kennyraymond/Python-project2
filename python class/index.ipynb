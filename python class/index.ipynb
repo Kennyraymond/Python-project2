{
 "cells": [
  {
   "attachments": {},
   "cell_type": "markdown",
   "metadata": {},
   "source": [
    "Basic arithematics"
   ]
  },
  {
   "cell_type": "code",
   "execution_count": 39,
   "metadata": {},
   "outputs": [
    {
     "name": "stdout",
     "output_type": "stream",
     "text": [
      "Addition :  12\n",
      "Subtraction :  8\n",
      "Multiplication :  20\n",
      "Division (float) :  5.0\n",
      "Division (floor) :  5\n",
      "Modulus :  0\n",
      "Exponent :  100\n"
     ]
    }
   ],
   "source": [
    "a=10\n",
    "b=2\n",
    "print('Addition : ', a + b)\n",
    "print('Subtraction : ', a - b)\n",
    "print('Multiplication : ', a * b)\n",
    "print('Division (float) : ', a / b)\n",
    "print('Division (floor) : ', a // b)\n",
    "print('Modulus : ', a % b)\n",
    "print('Exponent : ', a ** b)"
   ]
  },
  {
   "attachments": {},
   "cell_type": "markdown",
   "metadata": {},
   "source": [
    "welcome to Python 101: Strings'\n",
    "The different ways to put strings.\n",
    "first declare the variable, Then print the variable"
   ]
  },
  {
   "cell_type": "code",
   "execution_count": 102,
   "metadata": {},
   "outputs": [
    {
     "name": "stdout",
     "output_type": "stream",
     "text": [
      "welcome to Python 101: strings\n",
      "WELCOME TO PYTHON 101: STRINGS\n",
      "welcome to python 101: strings\n",
      "Welcome to python 101: strings\n",
      "Welcome To Python 101: Strings\n"
     ]
    }
   ],
   "source": [
    "msg='welcome to Python 101: strings'\n",
    "print (msg)\n",
    "#print(msg+msg) \n",
    "# To change a string into an uppercase or lowercase;\n",
    "print(msg.upper())\n",
    "#For lowercase\n",
    "print(msg.lower())\n",
    "# To capitalize (it put only the first letter into capital letter)\n",
    "print(msg.capitalize())\n",
    "#If we want all the first letter to have uppercase, we will use this function title()\n",
    "print(msg.title())\n",
    "\n"
   ]
  },
  {
   "attachments": {},
   "cell_type": "markdown",
   "metadata": {},
   "source": [
    "Putting comma introduces space inside the strings\n"
   ]
  },
  {
   "cell_type": "code",
   "execution_count": 41,
   "metadata": {},
   "outputs": [
    {
     "name": "stdout",
     "output_type": "stream",
     "text": [
      "welcome to Python 101: Strings welcome to Python 101: Strings\n"
     ]
    }
   ],
   "source": [
    "print(msg,msg) "
   ]
  },
  {
   "attachments": {},
   "cell_type": "markdown",
   "metadata": {},
   "source": [
    "We can use multiplication method to duplicate a string.This will multiply the strings declared with out putting space"
   ]
  },
  {
   "cell_type": "code",
   "execution_count": 42,
   "metadata": {},
   "outputs": [
    {
     "name": "stdout",
     "output_type": "stream",
     "text": [
      "welcome to Python 101: Stringswelcome to Python 101: Strings\n"
     ]
    }
   ],
   "source": [
    "print (msg*2) "
   ]
  },
  {
   "attachments": {},
   "cell_type": "markdown",
   "metadata": {},
   "source": [
    "Another way to duplicate string is to put + sign but the best way is to put comma"
   ]
  },
  {
   "cell_type": "code",
   "execution_count": 112,
   "metadata": {},
   "outputs": [
    {
     "name": "stdout",
     "output_type": "stream",
     "text": [
      "welcome to Python 101: strings welcome to Python 101: strings\n"
     ]
    }
   ],
   "source": [
    "print(f'{msg} {msg}')"
   ]
  },
  {
   "attachments": {},
   "cell_type": "markdown",
   "metadata": {},
   "source": [
    "When we want to find out the length in a message, we use the command (len())"
   ]
  },
  {
   "cell_type": "code",
   "execution_count": 113,
   "metadata": {},
   "outputs": [
    {
     "name": "stdout",
     "output_type": "stream",
     "text": [
      "30\n"
     ]
    }
   ],
   "source": [
    "print(len(msg))"
   ]
  },
  {
   "attachments": {},
   "cell_type": "markdown",
   "metadata": {},
   "source": [
    "When we want to count the number of instances of a certain word or a letter we use the command print(msg.count('t'))"
   ]
  },
  {
   "cell_type": "code",
   "execution_count": 116,
   "metadata": {},
   "outputs": [
    {
     "name": "stdout",
     "output_type": "stream",
     "text": [
      "2\n"
     ]
    }
   ],
   "source": [
    "print(msg.count('s'))"
   ]
  },
  {
   "attachments": {},
   "cell_type": "markdown",
   "metadata": {},
   "source": [
    "Slicing strings is getting part of the string : When we want to just get part of the words eg (welcome home) ; if we want to get only home, this command will be used print(msg[0]). this type of bracket [] is used for slicing strings.\n",
    "The way strings are numbered in python is from 012345 and not from 1234 and its the same thing for list. \n",
    "the different slicing partterns can be seen below:"
   ]
  },
  {
   "cell_type": "code",
   "execution_count": 46,
   "metadata": {},
   "outputs": [
    {
     "name": "stdout",
     "output_type": "stream",
     "text": [
      "w\n",
      "m\n",
      "lcome to Python 101: Strings\n",
      "welcome\n",
      "\n"
     ]
    }
   ],
   "source": [
    "print(msg[0])\n",
    "print(msg[5])\n",
    "print(msg[2:])#the colon will grab everything after the two letters and if the colon is written before [:3]it will grab everything before the letters\n",
    "print(msg[:7])\n",
    "print(msg[25:1])"
   ]
  },
  {
   "attachments": {},
   "cell_type": "markdown",
   "metadata": {},
   "source": [
    "Excercise: assignment: From string \"welcome to python 101\" \n",
    "1,Extract text and create/print a new string that says \"welcome ring to tyler\"\n",
    "2, every first letter in the word should be capitalized\n",
    "3, Print the same string backwards."
   ]
  },
  {
   "cell_type": "code",
   "execution_count": 118,
   "metadata": {},
   "outputs": [
    {
     "name": "stdout",
     "output_type": "stream",
     "text": [
      "welcome to Python  welcome  ring to \n"
     ]
    }
   ],
   "source": [
    "msg='welcome to Python 101: Strings'\n",
    "msg1= msg[:18]+' '+msg[:8]+' '+msg[25:29]+msg[7:11]\n",
    "print(msg1)"
   ]
  },
  {
   "attachments": {},
   "cell_type": "markdown",
   "metadata": {},
   "source": [
    "replace and find strings"
   ]
  },
  {
   "cell_type": "code",
   "execution_count": 48,
   "metadata": {},
   "outputs": [
    {
     "name": "stdout",
     "output_type": "stream",
     "text": [
      "Welcome to C 101: Strings\n"
     ]
    }
   ],
   "source": [
    "msg='Welcome to Python 101: Strings'\n",
    "print(msg.replace('Python','C'))\n",
    "msg1=msg.replace('Python','C')"
   ]
  },
  {
   "attachments": {},
   "cell_type": "markdown",
   "metadata": {},
   "source": [
    "concatnate Strings\n",
    "099924071529701"
   ]
  },
  {
   "cell_type": "code",
   "execution_count": 49,
   "metadata": {},
   "outputs": [
    {
     "name": "stdout",
     "output_type": "stream",
     "text": [
      "[Terry] loves the color red!\n",
      "[TERRY] loves the color RED!\n"
     ]
    }
   ],
   "source": [
    "name='TERRY' \n",
    "color = 'RED'\n",
    "msg = '[' + name + '] loves the color ' + color + '!'\n",
    "msg1 = f'[{name.capitalize()}] loves the color {color.lower()}!'\n",
    "print(msg1)\n",
    "print(msg)"
   ]
  },
  {
   "attachments": {},
   "cell_type": "markdown",
   "metadata": {},
   "source": [
    "USER INPUT\n",
    "in user input, you create a variable with input() and a question when youb print system will request you input a name into a box and click on enter and it will print out what you wrote. you dont necessary need to input anything on the variable, system will pop out a box to put what you want to see"
   ]
  },
  {
   "cell_type": "code",
   "execution_count": 50,
   "metadata": {},
   "outputs": [
    {
     "name": "stdout",
     "output_type": "stream",
     "text": [
      "Hello kenny! you are 56 years old.\n"
     ]
    }
   ],
   "source": [
    "name= input('What is your name?:')\n",
    "age= input('what is your age')\n",
    "print('Hello '+ name +'! you are '+ age + ' ' + 'years old.')"
   ]
  },
  {
   "attachments": {},
   "cell_type": "markdown",
   "metadata": {},
   "source": [
    "using input to builds a calculator"
   ]
  },
  {
   "cell_type": "code",
   "execution_count": 51,
   "metadata": {},
   "outputs": [
    {
     "name": "stdout",
     "output_type": "stream",
     "text": [
      "41\n"
     ]
    }
   ],
   "source": [
    "num1=input('enter a digit:')\n",
    "num2=input('enter a second number:')\n",
    "answer=int(num1)+ int(num2)\n",
    "print(answer)"
   ]
  },
  {
   "attachments": {},
   "cell_type": "markdown",
   "metadata": {},
   "source": [
    "user input excercise\n"
   ]
  },
  {
   "cell_type": "code",
   "execution_count": 52,
   "metadata": {},
   "outputs": [
    {
     "name": "stdout",
     "output_type": "stream",
     "text": [
      "Hi Love! 7km is equivalent to 4.35miles.\n"
     ]
    }
   ],
   "source": [
    "Greet=('Goodmorning')\n",
    "name= input('enter your name:')\n",
    "distance_km= input('enter Distance in km:')\n",
    "distance_mile= float(distance_km)/1.609\n",
    "print(f'Hi {name.title()}! {distance_km}km is equivalent to {round(distance_mile,2)}miles.')"
   ]
  },
  {
   "attachments": {},
   "cell_type": "markdown",
   "metadata": {},
   "source": [
    "# - Create a distance converter converting Km to miles\n",
    "# - Take two inputs from user: Their first name and the distance in km\n",
    "# - Print: Greet user by name and show km, and mile values\n",
    "# - 1 mile is 1.609 kilometers\n",
    "# - hint: use correct types for calculating and print\n",
    "# - Did you capitalize the name\n"
   ]
  },
  {
   "attachments": {},
   "cell_type": "markdown",
   "metadata": {},
   "source": [
    "List basics\n",
    "they are similar to variables.it can hold a number, a boolean , a string "
   ]
  },
  {
   "cell_type": "code",
   "execution_count": 53,
   "metadata": {},
   "outputs": [
    {
     "name": "stdout",
     "output_type": "stream",
     "text": [
      "['john', 'Bamidele', 'dammy', 'Azeez']\n"
     ]
    }
   ],
   "source": [
    "friends = ['john','Bamidele','dammy','Azeez']\n",
    "print(friends)"
   ]
  },
  {
   "attachments": {},
   "cell_type": "markdown",
   "metadata": {},
   "source": [
    "The way to access list by index, its like slicing\n",
    "friends = ['john','Bamidele','dammy','Azeez']\n",
    "             0      1          2        3\n",
    "print(friends)"
   ]
  },
  {
   "cell_type": "code",
   "execution_count": 54,
   "metadata": {},
   "outputs": [
    {
     "name": "stdout",
     "output_type": "stream",
     "text": [
      "Bamidele john\n"
     ]
    }
   ],
   "source": [
    "print(friends[1],friends[0])"
   ]
  },
  {
   "attachments": {},
   "cell_type": "markdown",
   "metadata": {},
   "source": [
    "Sorting list in python. it can be sort in acessinding order\n",
    "friends = ['John','Michael','Terry','Eric','Graham']\n",
    "cars = [911,130,328,535,740,308]\n",
    "print(friends)\n",
    "friends.sort()\n",
    "print(friends)"
   ]
  },
  {
   "cell_type": "code",
   "execution_count": 55,
   "metadata": {},
   "outputs": [
    {
     "name": "stdout",
     "output_type": "stream",
     "text": [
      "['John', 'Michael', 'Terry', 'Eric', 'Graham']\n",
      "['Eric', 'Graham', 'John', 'Michael', 'Terry']\n"
     ]
    }
   ],
   "source": [
    "friends = ['John','Michael','Terry','Eric','Graham']\n",
    "cars = [911,130,328,535,740,308]\n",
    "print(friends)\n",
    "friends.sort()\n",
    "print(friends)"
   ]
  },
  {
   "attachments": {},
   "cell_type": "markdown",
   "metadata": {},
   "source": [
    "Sorting lists in decending order can be written as\n",
    "friends.sort(reverse=True) Then we print\n",
    "print(friends)"
   ]
  },
  {
   "cell_type": "code",
   "execution_count": 56,
   "metadata": {},
   "outputs": [
    {
     "name": "stdout",
     "output_type": "stream",
     "text": [
      "['Terry', 'Michael', 'John', 'Graham', 'Eric']\n"
     ]
    }
   ],
   "source": [
    "friends.sort(reverse=True)\n",
    "print(friends)"
   ]
  },
  {
   "attachments": {},
   "cell_type": "markdown",
   "metadata": {},
   "source": [
    "Reverse fuction in list: it just reverse the original string"
   ]
  },
  {
   "cell_type": "code",
   "execution_count": 57,
   "metadata": {},
   "outputs": [
    {
     "name": "stdout",
     "output_type": "stream",
     "text": [
      "['Eric', 'Graham', 'John', 'Michael', 'Terry']\n"
     ]
    }
   ],
   "source": [
    "friends.reverse()\n",
    "print(friends)"
   ]
  },
  {
   "attachments": {},
   "cell_type": "markdown",
   "metadata": {},
   "source": [
    "to sum lists\n",
    "declare the variable \n",
    "print(sum(cars))\n",
    "\n",
    "For minimum\n",
    "print(min(cars))\n",
    "\n",
    "for maximum\n",
    "print(max(cars))"
   ]
  },
  {
   "cell_type": "code",
   "execution_count": 58,
   "metadata": {},
   "outputs": [
    {
     "name": "stdout",
     "output_type": "stream",
     "text": [
      "2952\n",
      "130\n",
      "911\n",
      "Eric\n",
      "Terry\n"
     ]
    }
   ],
   "source": [
    "print(sum(cars))\n",
    "print(min(cars))\n",
    "print(max(cars))\n",
    "\n",
    "print(min(friends))\n",
    "print(max(friends))"
   ]
  },
  {
   "attachments": {},
   "cell_type": "markdown",
   "metadata": {},
   "source": [
    "List modification. we use append statement or insert statement\n",
    "\n",
    "friends.append('TerryG') append means to add to a statement \n",
    "\n",
    "if you want to insert you put the number you want it to be then the string\n",
    "friends.insert(1,'TerryG')"
   ]
  },
  {
   "cell_type": "code",
   "execution_count": 59,
   "metadata": {},
   "outputs": [
    {
     "name": "stdout",
     "output_type": "stream",
     "text": [
      "['Eric', 'Graham', 'John', 'Michael', 'Terry', 'TerryG']\n"
     ]
    }
   ],
   "source": [
    "friends.append('TerryG')\n",
    "print(friends)"
   ]
  },
  {
   "cell_type": "code",
   "execution_count": 60,
   "metadata": {},
   "outputs": [
    {
     "name": "stdout",
     "output_type": "stream",
     "text": [
      "['John', 'TerryG', 'Michael', 'Terry', 'Eric', 'Graham']\n"
     ]
    }
   ],
   "source": [
    "friends = ['John','Michael','Terry','Eric','Graham']\n",
    "friends.insert(1,'TerryG')\n",
    "print(friends)"
   ]
  },
  {
   "attachments": {},
   "cell_type": "markdown",
   "metadata": {},
   "source": [
    "Getting a value in list"
   ]
  },
  {
   "cell_type": "code",
   "execution_count": 61,
   "metadata": {},
   "outputs": [
    {
     "name": "stdout",
     "output_type": "stream",
     "text": [
      "['John', 'TerryG', 'TerryG', 'Terry', 'Eric', 'Graham']\n"
     ]
    }
   ],
   "source": [
    "friends[2]='TerryG'\n",
    "print(friends)\n"
   ]
  },
  {
   "attachments": {},
   "cell_type": "markdown",
   "metadata": {},
   "source": [
    "Extend list \n",
    "friends.extend(cars)\n",
    "print(friends)\n"
   ]
  },
  {
   "cell_type": "code",
   "execution_count": 62,
   "metadata": {},
   "outputs": [
    {
     "name": "stdout",
     "output_type": "stream",
     "text": [
      "['John', 'TerryG', 'TerryG', 'Terry', 'Eric', 'Graham', 911, 130, 328, 535, 740, 308]\n"
     ]
    }
   ],
   "source": [
    "friends.extend(cars)\n",
    "print(friends)"
   ]
  },
  {
   "cell_type": "code",
   "execution_count": 63,
   "metadata": {},
   "outputs": [
    {
     "name": "stdout",
     "output_type": "stream",
     "text": [
      "['John', 'TerryG', 'TerryG', 'Terry', 'Eric', 'Graham', 911, 130, 328, 535, 740]\n"
     ]
    }
   ],
   "source": [
    "friends.pop(-1)\n",
    "print(friends)"
   ]
  },
  {
   "cell_type": "code",
   "execution_count": 64,
   "metadata": {},
   "outputs": [
    {
     "name": "stdout",
     "output_type": "stream",
     "text": [
      "['John', 'TerryG', 'Terry', 'Eric', 'Graham', 911, 130, 328, 535, 740]\n"
     ]
    }
   ],
   "source": [
    "del friends[2]\n",
    "print(friends)"
   ]
  },
  {
   "attachments": {},
   "cell_type": "markdown",
   "metadata": {},
   "source": [
    "Copy list"
   ]
  },
  {
   "cell_type": "code",
   "execution_count": 65,
   "metadata": {},
   "outputs": [
    {
     "name": "stdout",
     "output_type": "stream",
     "text": [
      "['John', 'TerryG', 'Terry', 'Eric', 'Graham', 911, 130, 328, 535, 740]\n",
      "['John', 'TerryG', 'Terry', 'Eric', 'Graham', 911, 130, 328, 535, 740]\n"
     ]
    }
   ],
   "source": [
    "new_friends = friends.copy()\n",
    "print(friends)\n",
    "print(new_friends)"
   ]
  },
  {
   "attachments": {},
   "cell_type": "markdown",
   "metadata": {},
   "source": [
    "Add new friends"
   ]
  },
  {
   "cell_type": "code",
   "execution_count": 66,
   "metadata": {},
   "outputs": [
    {
     "name": "stdout",
     "output_type": "stream",
     "text": [
      "['John', 'TerryG', 'Terry', 'Eric', 'Graham', 911, 130, 328, 535, 740]\n",
      "['John', 'TerryG', 'Terry', 'Eric', 'Graham', 911, 130, 328, 535, 740]\n"
     ]
    }
   ],
   "source": [
    "new_friends = list(friends)\n",
    "print(friends)\n",
    "print(new_friends)"
   ]
  },
  {
   "attachments": {},
   "cell_type": "markdown",
   "metadata": {},
   "source": [
    "List Excercise (all inputs is captured as string) so change as number\n",
    "."
   ]
  },
  {
   "cell_type": "code",
   "execution_count": 67,
   "metadata": {},
   "outputs": [
    {
     "name": "stdout",
     "output_type": "stream",
     "text": [
      "$4.5\n",
      "Best day profit:$ 63.0\n",
      "Combined profit:$ 67.5\n"
     ]
    }
   ],
   "source": [
    "sales_w1 = [7,3,42,19,15,35,9]\n",
    "sales_w2 = [12,4,26,10,7,28]\n",
    "sales = []\n",
    "#add another day in week two list by capturing\n",
    "new_day = input('Enter no of lemonade for new day:')\n",
    "#all inputs comes as string so we put a number statement\n",
    "sales_w2.append(int(new_day))\n",
    "#combine the two lists into the list called sales: this can be done in two ways;\n",
    "#sales.extend(sales_w1)\n",
    "#sales.extend(sales_w2)\n",
    "sales= sales_w1 + sales_w2\n",
    "# after combining the two list , you use sort function to sort out the best day profit the laST DAY PROFIT\n",
    "sales.sort()\n",
    "#calculate/print how much you have earned on Best day,worst day, separately and in total\n",
    "worst_day = min(sales) * 1.5\n",
    "best_day_prof = max(sales) * 1.5\n",
    "print(f'${worst_day}')\n",
    "print(f'Best day profit:$ {best_day_prof}')\n",
    "print(f'Combined profit:$ {worst_day + best_day_prof}')\n",
    "\n",
    "\n"
   ]
  },
  {
   "attachments": {},
   "cell_type": "markdown",
   "metadata": {},
   "source": [
    "To split and join strings\n",
    "msg ='Welcome  to  Python  101: Split  and Join'\n",
    "csv = 'Eric,John,Michael,Terry,Graham'\n",
    "friends_list = ['Eric','John','Michael','Terry','Graham']"
   ]
  },
  {
   "cell_type": "code",
   "execution_count": 68,
   "metadata": {},
   "outputs": [
    {
     "name": "stdout",
     "output_type": "stream",
     "text": [
      "['W', 'e', 'l', 'c', 'o', 'm', 'e', ' ', ' ', 't', 'o', ' ', ' ', 'P', 'y', 't', 'h', 'o', 'n', ' ', ' ', '1', '0', '1', ':', ' ', 'S', 'p', 'l', 'i', 't', ' ', ' ', 'a', 'n', 'd', ' ', 'J', 'o', 'i', 'n']\n",
      "['Welcome', 'to', 'Python', '101:', 'Split', 'and', 'Join']\n",
      "['Welcome', '', 'to', '', 'Python', '', '101:', 'Split', '', 'and', 'Join'] <class 'list'>\n",
      "['Eric', 'John', 'Michael', 'Terry', 'Graham']\n",
      "W-e-l-c-o-m-e- - -t-o- - -P-y-t-h-o-n- - -1-0-1-:- -S-p-l-i-t- - -a-n-d- -J-o-i-n\n",
      "['Eric', 'John', 'Michael', 'Terry', 'Graham']\n",
      "['Eric', 'John', 'Michael', 'Terry', 'Graham', 'Eric', 'John', 'Michael', 'Terry', 'Graham']\n",
      "Eric/John/Michael/Terry/Graham/Eric/John/Michael/Terry/Graham\n",
      "EricJohnMichaelTerryGraham\n",
      "WelcometoPython101:SplitandJoin\n"
     ]
    }
   ],
   "source": [
    "msg ='Welcome  to  Python  101: Split  and Join'\n",
    "csv = 'Eric,John,Michael,Terry,Graham'\n",
    "friends_list = ['Eric','John','Michael','Terry','Graham']\n",
    "print(list(msg))\n",
    "print(msg.split())\n",
    "print(msg.split(' '),type(msg.split(' ')))\n",
    "print(csv.split(','))\n",
    "print('-'.join(msg))\n",
    "print(str(friends_list))\n",
    "print(str(friends_list + friends_list))\n",
    "# for it to really look like a strin, this is how we do it\n",
    "print('/'.join(friends_list + friends_list))\n",
    "# when we split we put it on list and when we join we make it as a string, join can be done without spaces when you put '' without spaces\n",
    "print(''.join(friends_list))\n",
    "print(''.join(msg.split()))\n",
    "\n"
   ]
  },
  {
   "attachments": {},
   "cell_type": "markdown",
   "metadata": {},
   "source": [
    "Split and join exercise"
   ]
  },
  {
   "cell_type": "code",
   "execution_count": 69,
   "metadata": {},
   "outputs": [
    {
     "name": "stdout",
     "output_type": "stream",
     "text": [
      "['Eric', 'John', 'Michael', 'Terry', 'Graham:TerryG;Brian']\n",
      "Eric,John,Michael,Terry,Graham:TerryG,Brian\n",
      "['Eric,John,Michael,Terry,Graham', 'TerryG,Brian']\n",
      "Eric,John,Michael,Terry,Graham,TerryG,Brian\n",
      "['Eric', 'John', 'Michael', 'Terry', 'Graham', 'TerryG', 'Brian']\n",
      "['Eric', 'John', 'Michael', 'Terry', 'Graham', 'TerryG', 'Brian']\n",
      "[None]\n",
      "replace ['Eric', 'John', 'Michael', 'Terry', 'Graham', 'TerryG', 'Brian']\n"
     ]
    }
   ],
   "source": [
    "csv = 'Eric,John,Michael,Terry,Graham:TerryG;Brian'\n",
    "print(csv.split(',')) # split the csv file with .split\n",
    "print(','.join(csv.split(';'))) # then join the split file\n",
    "print(','.join(csv.split(';')).split(':')) # spilt  on a comma to remove the :\n",
    "\n",
    "print(','.join(','.join(csv.split(';')).split(':'))) #\n",
    "print(','.join(','.join(csv.split(';')).split(':')).split(',')) # this has created the list , then paste it on the friends list.\n",
    "friends_list = [print(','.join(','.join(csv.split(';')).split(':')).split(','))]\n",
    "print(list(friends_list))\n",
    "print('replace', csv.replace(';',',').replace(':',',').split(','))\n",
    "# print('/'.join(csv.split()))\n",
    "\n",
    "# From the list above fill a list(friends_list) properly\n",
    "# with the names of all the friends. One per \"slot\"\n",
    "# you may need to run same command several times\n",
    "# use print() statements to work your way through the exercise"
   ]
  },
  {
   "attachments": {},
   "cell_type": "markdown",
   "metadata": {},
   "source": [
    "Sets - blazingly fast unordered Lists \n",
    "the main difference between sets and list is that a set use unordered list and it also remove any duplicate.\n",
    "friends_set = {'John','Michael','Terry','Eric','Graham','Eric'}\n",
    "print(friends_set)\n",
    " ##A set is a faster in finding members inside the set than a list. its has speed of 100\n",
    "Tuple in python is just like list, it use parentesis () and\n",
    "sets use {} curly brackets, list use squre bracket[]"
   ]
  },
  {
   "cell_type": "code",
   "execution_count": 70,
   "metadata": {},
   "outputs": [
    {
     "name": "stdout",
     "output_type": "stream",
     "text": [
      "{'Graham', 'Michael', 'Eric', 'John', 'Terry'}\n",
      "{'Graham', 'Eric'}\n",
      "{'Michael', 'John', 'Terry'}\n",
      "{'Loretta', 'Michael', 'Eric', 'John', 'Terry', 'Graham', 'Colin', 'Reg'}\n"
     ]
    }
   ],
   "source": [
    "\n",
    "# set use unordered list and it also remove any duplicate.\n",
    "friends_set = {'John','Michael','Terry','Eric','Graham','Eric'}\n",
    "print(friends_set)\n",
    "\n",
    "friends_set = {'John','Michael','Terry','Eric','Graham','Eric'}\n",
    "my_friends_set = {'Reg','Loretta','Colin','Eric','Graham'}\n",
    "#this will print the names that exist in both.\n",
    "print(friends_set.intersection(my_friends_set))\n",
    "# this will find the names not on list\n",
    "print(friends_set.difference(my_friends_set))\n",
    "# this print statement will join the two variables\n",
    "print(friends_set.union(my_friends_set))"
   ]
  },
  {
   "attachments": {},
   "cell_type": "markdown",
   "metadata": {},
   "source": [
    "The behaviour of list and tuple in using an empty list"
   ]
  },
  {
   "cell_type": "code",
   "execution_count": 71,
   "metadata": {},
   "outputs": [],
   "source": [
    "#Sets - blazingly fast unordered Lists \n",
    "#empty Lists you can create an empty list using squre bracket which will give you an empty list same goes for tuple but not for set, when an empty set is created you will get a dictionary \n",
    "empty_list = []\n",
    "empyt_list = list()\n",
    "\n",
    "#empty Tuple\n",
    "empty_tuple = ()\n",
    "empty_tuple = tuple()\n",
    "\n",
    "#empty Set\n",
    "empty_set = {} # this is wrong, this is a dictionary\n",
    "empty_set = set()\n"
   ]
  },
  {
   "attachments": {},
   "cell_type": "markdown",
   "metadata": {},
   "source": [
    "#Sets - Exercise\n",
    "\n",
    "#1. Check if ‘Eric’ and ‘John’ exist in friends\n",
    "#2. combine or add the two sets \n",
    "#3. Find names that are in both sets\n",
    "#4. find names that are only in friends\n",
    "#5. Show only the names who only appear in one of the lists\n",
    "#6. Create a new cars-list without duplicates"
   ]
  },
  {
   "cell_type": "code",
   "execution_count": 72,
   "metadata": {},
   "outputs": [
    {
     "name": "stdout",
     "output_type": "stream",
     "text": [
      "{'Graham', 'John'}\n",
      "{'Loretta', 'Michael', 'Eric', 'John', 'Terry', 'Graham', 'Colin', 'Reg'}\n",
      "{'Eric', 'Michael', 'Terry'}\n"
     ]
    }
   ],
   "source": [
    "friends = {'John','Michael','Terry','Eric','Graham'}\n",
    "my_friends = {'Reg','Loretta','Colin','John','Graham'}\n",
    "cars =['900','420','V70','911','996','V90','911','911','S','328','900']\n",
    "print(friends.intersection(my_friends))\n",
    "print(friends.union(my_friends))\n",
    "print(friends.difference(my_friends))"
   ]
  },
  {
   "attachments": {},
   "cell_type": "markdown",
   "metadata": {},
   "source": [
    "Functions in python is almost same as that of javascript. this is the fprmat for functions in python"
   ]
  },
  {
   "cell_type": "code",
   "execution_count": 73,
   "metadata": {},
   "outputs": [
    {
     "name": "stdout",
     "output_type": "stream",
     "text": [
      "hello friend!\n"
     ]
    }
   ],
   "source": [
    "def greeting():\n",
    "    print(\"hello friend!\")\n",
    "\n",
    "greeting()"
   ]
  },
  {
   "cell_type": "code",
   "execution_count": 74,
   "metadata": {},
   "outputs": [
    {
     "name": "stdout",
     "output_type": "stream",
     "text": [
      "hello Brian!\n"
     ]
    }
   ],
   "source": [
    "def greeting (name):\n",
    "    print(\"hello \" + name +  \"!\")\n",
    "\n",
    "greeting(\"Brian\")"
   ]
  },
  {
   "attachments": {},
   "cell_type": "markdown",
   "metadata": {},
   "source": [
    "Specify in our function in the parameter: def is used to define a function"
   ]
  },
  {
   "cell_type": "code",
   "execution_count": 75,
   "metadata": {},
   "outputs": [
    {
     "name": "stdout",
     "output_type": "stream",
     "text": [
      "hello Kenny, you are 30 years old!\n",
      "hello Kenny, you are 30 !\n"
     ]
    }
   ],
   "source": [
    "def greeting(name,age):\n",
    "    print('hello '+ name + ', you are ' + str(age) + ' years old' +'!')\n",
    "    print(f\"hello {name}, you are {age} !\")\n",
    "greeting(name= \"Kenny\",age=\"30\")"
   ]
  },
  {
   "cell_type": "code",
   "execution_count": 76,
   "metadata": {},
   "outputs": [
    {
     "name": "stdout",
     "output_type": "stream",
     "text": [
      "Hello brian!\n"
     ]
    }
   ],
   "source": [
    "def greeting(name):\n",
    "    print(\"Hello \" + name + \"!\")\n",
    "\n",
    "greeting(\"brian\")"
   ]
  },
  {
   "cell_type": "code",
   "execution_count": 77,
   "metadata": {},
   "outputs": [
    {
     "name": "stdout",
     "output_type": "stream",
     "text": [
      "Hello light, you are 32!\n",
      "Hello light, you are 32!\n",
      "Hello Judith, you are 28!\n",
      "Hello Judith, you are 28!\n",
      "Hello light, you are 32!\n",
      "Hello light, you are 32!\n"
     ]
    }
   ],
   "source": [
    "def greeting(name,age=28):\n",
    "    print(\"Hello \" + name + \", you are \" + str(age) + \"!\")\n",
    "    print(f\"Hello {name}, you are {age}!\")\n",
    "\n",
    "name = input(\"Enter your name: \")    \n",
    "greeting(name,32)\n",
    "greeting(\"Judith\")\n",
    "def greeting(name, age=28):\n",
    "    #Greets user with 'name' from 'input box' and 'age', if available, default age is used\n",
    "    print('Hello '  +  name + ', you are ' + str(age) +'!')\n",
    "    print(f'Hello {name}, you are {age}!')\n",
    "\n",
    "name = input('Enter your name: ')\n",
    "age = input('Enter your age: ')\n",
    "greeting(name, 32)\n",
    "# 1. Add new print statement - on a new line\n",
    "#    which says 'We hear you like the color xxx! xxx is a string with color \n",
    "# 2. extend the function with another  input parameter 'color', that defaults to 'red'\n",
    "# 3. Capture the color via an input box as variable:color \n",
    "# 4. Change the 'You are xx!' text to say 'you will be xx+1 years old next birthday \n",
    "#  adding 1 to the age\n",
    "# 5. Capitalize first letter of the 'name', and rest are small caps \n",
    "# 6. Favorite color should be in lowercase"
   ]
  },
  {
   "cell_type": "code",
   "execution_count": 78,
   "metadata": {},
   "outputs": [
    {
     "name": "stdout",
     "output_type": "stream",
     "text": [
      "Hello Gabby, you will be 79 next birthay!\n",
      "Hello Gabby, you will be  79 next birthday!\n",
      "we hear you like the color red !\n"
     ]
    }
   ],
   "source": [
    "def greeting(name, age=28,color='red'):\n",
    "    #Greets user with 'name' from 'input box' and 'age', if available, default age is used\n",
    "    print('Hello '  +  name.capitalize() + ', you will be ' + str(age+1) +' next birthay!')\n",
    "    print(f'Hello {name.capitalize()}, you will be  {age+1} next birthday!')\n",
    "\n",
    "    print(f'we hear you like the color {color.lower()} !')\n",
    "color = input('What is your favorite colour: ')\n",
    "name = input('Enter your name: ')\n",
    "age = input('Enter your age: ')\n",
    "greeting(name,int(age),color)\n"
   ]
  },
  {
   "attachments": {},
   "cell_type": "markdown",
   "metadata": {},
   "source": [
    "Functions - notations is when  you put a name on the arguement def greeting(name, age=28, color=\"red\"):\n",
    " #Greets user with “name” from “input box” and “age”, if unavailable, default age is used   \n",
    "   \n",
    "   print(f\"Hello {name.capitalize()}, you will be {age+1} next birthday!\")\n",
    "   print(f\"We hear you like the color {color.lower()}!\")\n",
    "#notations is when  you put a name on the arguement so that it corresponds with the declared function up \n",
    "greeting(\"brian\", 27,\"Blue\"). it increases readability in code\n",
    "eg when a code is written like this  pprofile=(1994,36,19.8,pink) it cant be easily understood but when it has name notatation like this Profile(yob=1995,weight=83.5,height=192,eye_color=\"blue\")\n",
    "i can easily read it."
   ]
  },
  {
   "attachments": {},
   "cell_type": "markdown",
   "metadata": {},
   "source": [
    "Return statement in python"
   ]
  },
  {
   "cell_type": "code",
   "execution_count": 79,
   "metadata": {},
   "outputs": [
    {
     "name": "stdout",
     "output_type": "stream",
     "text": [
      "None\n"
     ]
    }
   ],
   "source": [
    "def family_members_contribution(amount):\n",
    "    contribution= amount * 2.0\n",
    "\n",
    "print(family_members_contribution(100)) "
   ]
  },
  {
   "attachments": {},
   "cell_type": "markdown",
   "metadata": {},
   "source": [
    "functions will always return none when we dont input a return statement in it. as seen above . the below statements will return an output\n"
   ]
  },
  {
   "cell_type": "code",
   "execution_count": 80,
   "metadata": {},
   "outputs": [
    {
     "name": "stdout",
     "output_type": "stream",
     "text": [
      "25.0\n"
     ]
    }
   ],
   "source": [
    "def value_added_tax(amount):\n",
    "    tax =amount * 0.25\n",
    "    return tax\n",
    "#value_added_tax(100)\n",
    "print (value_added_tax(100))\n"
   ]
  },
  {
   "cell_type": "code",
   "execution_count": 81,
   "metadata": {},
   "outputs": [
    {
     "name": "stdout",
     "output_type": "stream",
     "text": [
      "(100, 25.0, 125.0) <class 'tuple'>\n"
     ]
    }
   ],
   "source": [
    "def value_added_tax(amount):\n",
    "    tax = amount * 0.25\n",
    "    total_amount = amount * 1.25\n",
    "    return (amount, tax, total_amount)\n",
    "\n",
    "price = value_added_tax(100)\n",
    "print (price, type(price))"
   ]
  },
  {
   "cell_type": "code",
   "execution_count": 82,
   "metadata": {},
   "outputs": [
    {
     "name": "stdout",
     "output_type": "stream",
     "text": [
      "{(100, 25.0, 125.0)} <class 'set'>\n"
     ]
    }
   ],
   "source": [
    "def value_added_tax(amount):\n",
    "    tax = amount * 0.25\n",
    "    total_amount = amount * 1.25\n",
    "    return {(amount, tax, total_amount)}\n",
    "\n",
    "price = value_added_tax(100)\n",
    "print (price, type(price))"
   ]
  },
  {
   "cell_type": "code",
   "execution_count": 83,
   "metadata": {},
   "outputs": [
    {
     "name": "stdout",
     "output_type": "stream",
     "text": [
      "[{(100, 25.0, 125.0)}] <class 'list'>\n"
     ]
    }
   ],
   "source": [
    "def value_added_tax(amount):\n",
    "    tax = amount * 0.25\n",
    "    total_amount = amount * 1.25\n",
    "    return [{(amount, tax, total_amount)}]\n",
    "\n",
    "price = value_added_tax(100)\n",
    "print (price, type(price))"
   ]
  },
  {
   "cell_type": "code",
   "execution_count": 84,
   "metadata": {},
   "outputs": [
    {
     "name": "stdout",
     "output_type": "stream",
     "text": [
      "{25.0, 50.0, 100, 125.0} <class 'set'>\n"
     ]
    }
   ],
   "source": [
    "def value_added_tax(amount):\n",
    "    tax = amount * 0.25\n",
    "    total_amount = amount * 1.25\n",
    "    profit_margin = amount/2 \n",
    "    return {amount, tax, total_amount, profit_margin}\n",
    "\n",
    "price = value_added_tax(100)\n",
    "print (price, type(price))\n"
   ]
  },
  {
   "attachments": {},
   "cell_type": "markdown",
   "metadata": {},
   "source": [
    "formatted string eg below"
   ]
  },
  {
   "cell_type": "code",
   "execution_count": 85,
   "metadata": {},
   "outputs": [
    {
     "name": "stdout",
     "output_type": "stream",
     "text": [
      "100, 25.0, 125.0, 50.0 <class 'str'>\n"
     ]
    }
   ],
   "source": [
    "def value_added_tax(amount):\n",
    "    tax = amount * 0.25\n",
    "    total_amount = amount * 1.25\n",
    "    profit_margin = amount/2 \n",
    "    return f\"{amount}, {tax}, {total_amount}, {profit_margin}\"\n",
    "\n",
    "price = value_added_tax(100)\n",
    "print (price, type(price))"
   ]
  },
  {
   "attachments": {},
   "cell_type": "markdown",
   "metadata": {},
   "source": [
    "Comparisons in python . the assignment variables are used in comparisons the assignment sign is \"=\".\n",
    "When we want to compare we can can write a == b"
   ]
  },
  {
   "cell_type": "code",
   "execution_count": 86,
   "metadata": {},
   "outputs": [
    {
     "name": "stdout",
     "output_type": "stream",
     "text": [
      "False\n"
     ]
    }
   ],
   "source": [
    "a=7\n",
    "b=6\n",
    "print(a==b)"
   ]
  },
  {
   "attachments": {},
   "cell_type": "markdown",
   "metadata": {},
   "source": [
    "when we want to write a is not equal to it is written like these print(a != b)"
   ]
  },
  {
   "cell_type": "code",
   "execution_count": 87,
   "metadata": {},
   "outputs": [
    {
     "name": "stdout",
     "output_type": "stream",
     "text": [
      "True\n",
      "True\n",
      "False\n",
      "True\n",
      "False\n"
     ]
    }
   ],
   "source": [
    "print(a != b)\n",
    "print(a>b)\n",
    "print(a<b)\n",
    "print (\"o\"in \"oraka\")\n",
    "print (\"o\" not in \"oraka\") "
   ]
  },
  {
   "cell_type": "code",
   "execution_count": 88,
   "metadata": {},
   "outputs": [
    {
     "name": "stdout",
     "output_type": "stream",
     "text": [
      "a == b is False\n",
      "a != b is True\n",
      "a > b is True\n",
      "a < b is False\n",
      "a >= b is True\n",
      "a <= b is False\n",
      "o in John is  True\n",
      "o in John is  False\n",
      "John is John  True\n",
      "John is not John is  False\n"
     ]
    },
    {
     "name": "stderr",
     "output_type": "stream",
     "text": [
      "<>:11: SyntaxWarning: \"is\" with 'str' literal. Did you mean \"==\"?\n",
      "<>:12: SyntaxWarning: \"is not\" with 'str' literal. Did you mean \"!=\"?\n",
      "<>:11: SyntaxWarning: \"is\" with 'str' literal. Did you mean \"==\"?\n",
      "<>:12: SyntaxWarning: \"is not\" with 'str' literal. Did you mean \"!=\"?\n",
      "C:\\Users\\Administrator\\AppData\\Local\\Temp\\ipykernel_11988\\2760185915.py:11: SyntaxWarning: \"is\" with 'str' literal. Did you mean \"==\"?\n",
      "  print('John is John ','John' is 'John') #identity\n",
      "C:\\Users\\Administrator\\AppData\\Local\\Temp\\ipykernel_11988\\2760185915.py:12: SyntaxWarning: \"is not\" with 'str' literal. Did you mean \"!=\"?\n",
      "  print('John is not John is ','John' is not 'John') # negative identity\n"
     ]
    }
   ],
   "source": [
    "a=7\n",
    "b=3\n",
    "print('a == b is', a == b)\n",
    "print('a != b is', a != b)\n",
    "print('a > b is', a > b)\n",
    "print('a < b is', a < b)\n",
    "print('a >= b is', a >= b)\n",
    "print('a <= b is', a <= b)\n",
    "print('o in John is ','o' in 'John') #membership\n",
    "print('o in John is ','o' not in 'John') #non membership\n",
    "print('John is John ','John' is 'John') #identity\n",
    "print('John is not John is ','John' is not 'John') # negative identity"
   ]
  },
  {
   "attachments": {},
   "cell_type": "markdown",
   "metadata": {},
   "source": [
    "Booleans: making boolean into integar\n",
    "Booleans are true or false statement"
   ]
  },
  {
   "attachments": {},
   "cell_type": "markdown",
   "metadata": {},
   "source": [
    "All trival values valuate to 0 and non-trival values valuate to 1"
   ]
  },
  {
   "cell_type": "code",
   "execution_count": 89,
   "metadata": {},
   "outputs": [
    {
     "name": "stdout",
     "output_type": "stream",
     "text": [
      "0\n",
      "1\n",
      "False\n",
      "True\n",
      "True\n",
      "False\n",
      "24\n",
      "23\n"
     ]
    }
   ],
   "source": [
    "print(int(False))\n",
    "print(int(True))\n",
    "print(bool(0))\n",
    "print(bool(1))\n",
    "print(bool(\" \"))\n",
    "print(bool([]))\n",
    "print(23 + True)\n",
    "print(23 + False)"
   ]
  },
  {
   "attachments": {},
   "cell_type": "markdown",
   "metadata": {},
   "source": [
    "\"Conditionals: IF statements\" . these are a way for our programs to make decisions depending on diff circumtances,it makes the programs a little bit more intelligent"
   ]
  },
  {
   "cell_type": "code",
   "execution_count": 90,
   "metadata": {},
   "outputs": [
    {
     "name": "stdout",
     "output_type": "stream",
     "text": [
      "Good morning\n",
      "Bring Umbrella\n",
      "bring jacket\n"
     ]
    }
   ],
   "source": [
    "is_raining = True # this means if its raining system will return bring umbrella but if its false system will only return Good morning\n",
    "print(\"Good morning\")\n",
    "if is_raining:\n",
    "    print(\"Bring Umbrella\")\n",
    "\n",
    "    is_raining = False # this means if its raining system will return bring umbrella but if its false system will only return Good morning\n",
    "    is_cold = True #creating an \"or\" statement which is optional or we can create an \"and\" statement\n",
    "if is_raining and is_cold:\n",
    "    print(\"bring umbrella and jacket\")\n",
    "#if is_raining or is_cold:\n",
    "    #print(\"Bring Umbrella or jacket or both\") # if its not raining you can use elif ... eg\n",
    "elif is_raining and not(is_cold):\n",
    "    print(\"bring umbrella\")\n",
    "elif not (is_raining) and is_cold:\n",
    "    print(\"bring jacket\")\n",
    "else:\n",
    "    print(\"Umbrella is not needed\")\n",
    "#elif:\n",
    "  \n"
   ]
  },
  {
   "cell_type": "code",
   "execution_count": 91,
   "metadata": {},
   "outputs": [
    {
     "name": "stdout",
     "output_type": "stream",
     "text": [
      "purchased approved\n"
     ]
    }
   ],
   "source": [
    "amount = 23 # if amount is less than or equal to 50 depending what the user inputs , system will show purchased approved but if user inputs an amount greater than 50 it will put please provide your pin\n",
    "if amount <=50:\n",
    "    print(\"purchased approved\")\n",
    "else:\n",
    "    print(\"please provide your pin\")"
   ]
  },
  {
   "attachments": {},
   "cell_type": "markdown",
   "metadata": {},
   "source": [
    "if, else,elif-Excercise: \n",
    "Create a calculator which handles *,-,+,/ and outputs an answer based on the mode/ operator used \n",
    "Hint: Use 3 separate inputs\n",
    "Bonus: Extend functionality with extra mode so it also does celsius to fahrenheit conversion\n",
    "Formular is: temp in C*9/5 + 32 = temp in f"
   ]
  },
  {
   "cell_type": "code",
   "execution_count": 92,
   "metadata": {},
   "outputs": [
    {
     "name": "stdout",
     "output_type": "stream",
     "text": [
      "Answer is: 132.0\n"
     ]
    }
   ],
   "source": [
    "mode = input('Enter a math operation(*,-,+,/) or f for celsius to Fahrenit conversion: ')\n",
    "num1 = float(input('Enter first number: '))\n",
    "if mode.lower() == 'f':\n",
    "    print(f'{num1} celsius is equivalent to {(num1*9/5) + 32} fahrenheit')\n",
    "else:\n",
    "   num2 = float(input('Enter second number: '))\n",
    "# two equal signs == means equal to\n",
    "if mode == '+':\n",
    "    print(f'Answer is: {num1 + num2}')\n",
    "elif mode == '-':\n",
    "    print(f'Answer is: {num1 - num2}')\n",
    "elif mode == '*':\n",
    "    print(f'Answer is: {num1 * num2}')\n",
    "elif mode == '*': \n",
    "    print(f'Answer is: {num1 / num2}')\n",
    "#elif mode.lower() == 'f':\n",
    "    #print(f'{num1} celsius is equivalent to {(num1*9/5) + 32} fahrenheit')# the main statement we want to run is this one , but it will ask for the second number while we only \n",
    "else:                                                                 #need the first number , therefore we will put it first and then indent all the other statements below it \n",
    "    print('input error')\n"
   ]
  },
  {
   "attachments": {},
   "cell_type": "markdown",
   "metadata": {},
   "source": [
    "Code optimization : this is when you shorten the code in order to make it less clustered. eg def num_days(month):\n",
    "\n",
    "    if month == 'jan':\n",
    "        print('number of days in',month,'is',31)\n",
    "    elif month == 'feb':\n",
    "        print('number of days in',month,'is',28)\n",
    "    elif month == 'mar':\n",
    "        print('number of days in',month,'is',31)\n",
    "    elif month == 'apr':\n",
    "        print('number of days in',month,'is',30)\n",
    "    elif month == 'may':\n",
    "        print('number of days in',month,'is',31)\n",
    "    elif month == 'jun':\n",
    "        print('number of days in',month,'is',30)\n",
    "    elif month == 'jul':\n",
    "        print('number of days in',month,'is',31)\n",
    "    elif month == 'aug':\n",
    "        print('number of days in',month,'is',31)\n",
    "    elif month == 'sep':\n",
    "        print('number of days in',month,'is',30)\n",
    "    elif month == 'oct':\n",
    "        print('number of days in',month,'is',31)\n",
    "    elif month == 'nov':\n",
    "        print('number of days in',month,'is',30)\n",
    "    elif month == 'dec':\n",
    "        print('number of days  in',month,'is',31)\n",
    "\n",
    "num_days('oct') we can use an or statement to \n",
    "optimize/shorten the code in the function\n",
    "try to reduce the number of conditionals "
   ]
  },
  {
   "cell_type": "code",
   "execution_count": 93,
   "metadata": {},
   "outputs": [
    {
     "name": "stdout",
     "output_type": "stream",
     "text": [
      "number of days in jun is 31\n"
     ]
    }
   ],
   "source": [
    "#To optimize the code we can use or statement\n",
    "def num_days(month):\n",
    "#we have three print statement now but we can make it more efficient by adding a variable \n",
    "    days = 31 # then we will remove the or statement for the jan, since we have assign it a variable.\n",
    "    if month == 'apr' or month == 'jun' or month == 'sep' or month == 'nov': #\n",
    "        print('number of days in',month,'is',31) #if month == 'jan' or month == 'mar' or month == 'may' or month == 'jul' or month == 'aug' or month == 'oct' or month == 'dec':\n",
    "    elif month == 'feb':\n",
    "        print('number of days in',month,'is',28) #we can also write an else statement if the month is not 31 days or 28 days we write else \n",
    "    else:\n",
    "        print('number of days in',month,'is',30) #elif month == 'apr' or month == 'jun' or month == 'sep' or month == 'nov': \n",
    "\n",
    "    #elif month == 'jun':\n",
    "        #print('number of days in',month,'is',30) collate all similar output into an or statement\n",
    "    #elif month == 'sep':\n",
    "        #print('number of days in',month,'is',30)\n",
    "    #elif month == 'nov':\n",
    "        #print('number of days in',month,'is',30)\n",
    "num_days('jun')   \n",
    "\n"
   ]
  },
  {
   "cell_type": "code",
   "execution_count": 94,
   "metadata": {},
   "outputs": [
    {
     "name": "stdout",
     "output_type": "stream",
     "text": [
      "number of days in jun is 30\n"
     ]
    }
   ],
   "source": [
    "def num_days(month):\n",
    "    days = 31\n",
    "    if month == 'apr' or month == 'jun':\n",
    "       days = 30 \n",
    "    elif month == 'feb':\n",
    "        days =28\n",
    "    print('number of days in',month,'is',days)\n",
    "num_days('jun')"
   ]
  },
  {
   "cell_type": "code",
   "execution_count": 95,
   "metadata": {},
   "outputs": [
    {
     "name": "stdout",
     "output_type": "stream",
     "text": [
      "number of days in feb is 28\n"
     ]
    }
   ],
   "source": [
    "def num_days(month):\n",
    "    days = 31\n",
    "    if month in {'apr','jun'}:\n",
    "       days = 30 \n",
    "    elif month == 'feb':\n",
    "        days =28\n",
    "    print('number of days in',month,'is',days)\n",
    "num_days('feb')"
   ]
  },
  {
   "attachments": {},
   "cell_type": "markdown",
   "metadata": {},
   "source": [
    "WHILE LOOPS STATEMENT\n",
    "How to shorten my code and optimize it. loops are code that runs again and again until some conditions tells it to stop. they are a fantastic in checking things. we use a while condition:\n",
    "      code \n",
    "      iterator\n",
    "      # Three Loop Questions:\n",
    "#1. What do I want to repeat?\n",
    "message\n",
    "#2. What do I want to change each time?\n",
    "the stars\n",
    "#3. How long should we repeat?\n",
    "times \n",
    "print(\"1.*Loops are great*\")\n",
    "print(\"2.**Loops are great**\")\n",
    "print(\"3.***Loops are great***\")\n",
    "print(\"4.****Loops are great****\")\n",
    "print(\"5.*****Loops are great*****\")\n",
    "inorder to optimize this loop,We start by creating a variable which is an iterator which is generally labelled i"
   ]
  },
  {
   "cell_type": "code",
   "execution_count": 96,
   "metadata": {},
   "outputs": [
    {
     "name": "stdout",
     "output_type": "stream",
     "text": [
      "2.**Loops are awesome**\n",
      "3.***Loops are awesome***\n",
      "4.****Loops are awesome****\n",
      "5.*****Loops are awesome*****\n"
     ]
    }
   ],
   "source": [
    "#print(\"1.*Loops are great*\")\n",
    "#print(\"2.**Loops are great**\")\n",
    "#print(\"3.***Loops are great***\")\n",
    "#print(\"4.****Loops are great****\") i+=\n",
    "#print(\"5.*****Loops are great*****\")\n",
    "# inorder to optimize this loop,We start by creating a variable which is an iterator which is generally labelled i\n",
    "i = 1\n",
    "while i < 5 : #condition\n",
    "      i=i+1 #iterator\n",
    "      print(f'{i}.'+ '*'*i + 'Loops are awesome'+ '*'*i) #Code\n",
    "      #there's a short hand for iterator i+=1, \n"
   ]
  },
  {
   "cell_type": "code",
   "execution_count": 97,
   "metadata": {},
   "outputs": [
    {
     "name": "stdout",
     "output_type": "stream",
     "text": [
      "Guessing game\n",
      "No,not 6!\n",
      "No,not 7!\n",
      "No,not 5!\n",
      "You win! you Guessed it: 12\n"
     ]
    }
   ],
   "source": [
    "print('Guessing game') \n",
    "# Guess the correct number in 3 guesses. If you don’t get it right after 3 guesses you lose the game. \n",
    "# Give user input box: 1. To capture guesses, \n",
    "# print(and input boxes) 1. If user wins 2. If user loses\n",
    "# Tip:( remember you won’t see print statements durng execution, so If you want to see prints during whle loop, then print to the input box\n",
    "\n",
    "#Modification 1: number 1-100, tell user if guess is too high/low ,and let them have 5-10 guesses.\n",
    "# Tip:( remember you won’t see  print statements during execution, so If you want to see prints during whle loop, print to the input box (This is specific to this platform)\n",
    "# Three Loop Questions:\n",
    "#1. What do I want to repeat?\n",
    "#  -> guesses\n",
    "#2. What do I want to change each time?\n",
    "#  -> guess number and number of guesses\n",
    "#3. How long should we repeat?\n",
    "#  -> until user loses, runs out of guesses, or wins\n",
    "num = 12\n",
    "guess = 0\n",
    "guess_limit = 4 #maximun number of guesses\n",
    "guess_num = 0\n",
    "\n",
    "while guess_num < guess_limit :\n",
    "    guess = int(input(f'Guess # {guess_num+1}  from 1-20: last guess:{guess} '))#ask the user for a guess\n",
    "    if guess == num:\n",
    "        print(f'You win! you Guessed it: {guess}')\n",
    "        break #if they guessed the exact number right, we break out of the loop, the loop will stop. else it will continue\n",
    "    else:\n",
    "        print(f'No,not {guess}!')\n",
    "        guess_num += 1\n",
    "if guess != num: #is not equal to - !=\n",
    "    print(f'Sorry you lose! it was {num}')\n"
   ]
  },
  {
   "cell_type": "code",
   "execution_count": 126,
   "metadata": {},
   "outputs": [
    {
     "name": "stdout",
     "output_type": "stream",
     "text": [
      "Sorry you lose! it was 79\n"
     ]
    }
   ],
   "source": [
    "#Modification 1: number 1-100, tell user if guess is too high/low ,and let them have 5-10 guesses.\n",
    "# Tip:( remember you won’t see  print statements during execution, so If you want to see prints during whle loop, print to the input box (This is specific to this platform)\n",
    "num = 79\n",
    "guess = 0\n",
    "guess_limit = 2 #maximun number of guesses \n",
    "guess_num = 0\n",
    "guess = int(input(f'Guess a number from 1-100: '))\n",
    "guess_num +=1\n",
    "while guess_num < guess_limit :\n",
    "    #guess = int(input(f'Guess # {guess_num+1}  from 1-20: last guess:{guess} '))#ask the user for a guess\n",
    "    if guess != num:\n",
    "        guess_num +=1\n",
    "        if guess > num: \n",
    "            guess = int(input(f'{guess} Too High - Guess again 1-100: '))\n",
    "        else:\n",
    "            guess = int(input(f'{guess} too low - Guess again 1-100: '))\n",
    "\n",
    "    if guess == num:\n",
    "        print(f'You win! you Guessed it: {guess}')\n",
    "        break #if they guessed the exact number right, we break out of the loop, the loop will stop. else it will continue\n",
    "    #else: this else statement is no longer needed.\n",
    "       # print(f'No,not {guess}!')\n",
    "        #guess_num += 1\n",
    "if guess != num: #is not equal to - !=\n",
    "    print(f'Sorry you lose! it was {num}')\n"
   ]
  },
  {
   "attachments": {},
   "cell_type": "markdown",
   "metadata": {},
   "source": [
    "#Modification 1: number 1-100, tell user if guess is too high/low ,and let them have 5-10 guesses.\n",
    "# Tip:( remember you won’t see  print statements during execution, so If you want to see prints during whle loop, print to the input box (This is specific to this platform)"
   ]
  },
  {
   "attachments": {},
   "cell_type": "markdown",
   "metadata": {},
   "source": [
    "Correction"
   ]
  },
  {
   "cell_type": "code",
   "execution_count": 123,
   "metadata": {},
   "outputs": [
    {
     "name": "stdout",
     "output_type": "stream",
     "text": [
      "Sorry you lose! It was 76\n"
     ]
    }
   ],
   "source": [
    "num = 76\n",
    "guess = 0\n",
    "guess_limit=5\n",
    "guess_number = 0\n",
    "guess = int(input(f'Guess a number 1-100: '))\n",
    "guess_number +=1\n",
    "while guess_number < guess_limit:\n",
    "    \n",
    "    if guess != num:\n",
    "        guess_number +=1\n",
    "        if guess > num: \n",
    "            guess = int(input(f'{guess} Too high - Guess again 1-100: '))\n",
    "        else:\n",
    "            guess = int(input(f'{guess} too low - Guess again 1-100: '))\n",
    "    if guess == num:\n",
    "        print(f'You Win! You Guessed it: {guess}')\n",
    "        break\n",
    "    \n",
    "if guess != num:\n",
    "    print(f'Sorry you lose! It was {num}')\n"
   ]
  },
  {
   "attachments": {},
   "cell_type": "markdown",
   "metadata": {},
   "source": [
    "WE HAVE COVERED (WHILE LOOPS STATEMENT) AND NOW WE ARE DOING (FOR LOOPS STATEMENT)\n",
    "FOR LOOPS  are used through the looping through all the letters , objects in a string.\n",
    "In for loops , you know in advance how many loops you want to do\n",
    "\n"
   ]
  },
  {
   "cell_type": "code",
   "execution_count": 133,
   "metadata": {},
   "outputs": [
    {
     "name": "stdout",
     "output_type": "stream",
     "text": [
      "b\n",
      "l\n",
      "u\n",
      "e\n",
      "For Loops done\n",
      "L\n",
      "a\n",
      "g\n",
      "o\n",
      "s\n",
      "0\n",
      "1\n",
      "2\n",
      "3\n",
      "4\n",
      "5\n",
      "6\n",
      "7\n"
     ]
    }
   ],
   "source": [
    "for letter in 'blue':#for loop:the letter goes through the word norwegian and prints out the word one by one.\n",
    "    print(letter)\n",
    "    #print(letter) you can call it any name but it must tally with the name  after the for statement\n",
    "             \n",
    "print(\"For Loops done\")\n",
    "\n",
    "for Uba in 'Lagos': #this is assigning uba as a variable, when you print uba , it will print the lagos which was assigned to it\n",
    "    print(Uba)\n",
    "# we can you ranges: is a useful tool when you want to pick up a number from 0 up to 8\n",
    "#eg: \n",
    "for furgle in range(8):\n",
    "    print(furgle)    "
   ]
  },
  {
   "cell_type": "code",
   "execution_count": 139,
   "metadata": {},
   "outputs": [
    {
     "name": "stdout",
     "output_type": "stream",
     "text": [
      "1\n",
      "4\n",
      "7\n",
      "10\n",
      "13\n",
      "b\n",
      "a\n",
      "m\n",
      "m\n",
      "y\n",
      ",\n",
      "j\n",
      "o\n",
      "l\n",
      "a\n",
      "bammy\n",
      "gbemi\n",
      "bammidele\n",
      "jolaosho\n",
      "gbemisola\n"
     ]
    }
   ],
   "source": [
    "for kenny in range(1,15,3): #you can use sets{} , tuple() or lists[]\n",
    "    print(kenny)\n",
    "\n",
    "for name in ('bammy,jola'): # when its written like this,system will  print it one,one.becuase it printed as one string\n",
    "    print (name)\n",
    "\n",
    "for name in ['bammy','gbemi']:\n",
    "    print (name)\n",
    "\n",
    "Collegues=['bammidele','jolaosho','gbemisola']\n",
    "for name in Collegues :\n",
    "    print (name)\n"
   ]
  },
  {
   "cell_type": "code",
   "execution_count": null,
   "metadata": {},
   "outputs": [],
   "source": [
    "friends = ['John','Terry','Eric','Michael','George']\n",
    "for friend in friends:\n",
    "    print(friend)\n"
   ]
  },
  {
   "attachments": {},
   "cell_type": "markdown",
   "metadata": {},
   "source": [
    "In Python,indexing refers to the process of accessing a specific element in a sequence, such as a string or list, using its position or index number.Indexing in Python starts at 0, which means that the first element in a sequence has an index of 0, the second element has an index of 1, and so on."
   ]
  },
  {
   "cell_type": "code",
   "execution_count": 152,
   "metadata": {},
   "outputs": [
    {
     "name": "stdout",
     "output_type": "stream",
     "text": [
      "John\n",
      "Terry\n",
      "Eric\n",
      "Michael\n",
      "George\n"
     ]
    }
   ],
   "source": [
    "friends = ['John','Terry','Eric','Michael','George']\n",
    "for index in range(len(friends)):# specify the index by inputting the len in friends\n",
    "   print(friends[index])"
   ]
  },
  {
   "attachments": {},
   "cell_type": "markdown",
   "metadata": {},
   "source": [
    "The break and continue statement: te break statenent takes you out of the loop,the continue allows you to continue eg:"
   ]
  },
  {
   "cell_type": "code",
   "execution_count": 145,
   "metadata": {},
   "outputs": [
    {
     "name": "stdout",
     "output_type": "stream",
     "text": [
      "John\n",
      "Terry\n",
      "Found Eric !\n",
      "for loop done\n"
     ]
    }
   ],
   "source": [
    "friends = ['John','Terry','Eric','Michael','George']\n",
    "for friend in friends:\n",
    "    if friend == 'Eric':\n",
    "        print(f'Found {friend} !')\n",
    "        break\n",
    "    print(friend)\n",
    "\n",
    "print('for loop done')"
   ]
  },
  {
   "attachments": {},
   "cell_type": "markdown",
   "metadata": {},
   "source": [
    "For the continue statement: System will contue after finding the name"
   ]
  },
  {
   "cell_type": "code",
   "execution_count": 146,
   "metadata": {},
   "outputs": [
    {
     "name": "stdout",
     "output_type": "stream",
     "text": [
      "John\n",
      "Terry\n",
      "Found Eric !\n",
      "Michael\n",
      "George\n",
      "for loop done\n"
     ]
    }
   ],
   "source": [
    "friends = ['John','Terry','Eric','Michael','George']\n",
    "for friend in friends:\n",
    "    if friend == 'Eric':\n",
    "        print(f'Found {friend} !')\n",
    "        continue\n",
    "    print(friend)\n",
    "\n",
    "print('for loop done')"
   ]
  },
  {
   "attachments": {},
   "cell_type": "markdown",
   "metadata": {},
   "source": [
    "Nested loop: these are loop inside a loop for eg:"
   ]
  },
  {
   "cell_type": "code",
   "execution_count": 150,
   "metadata": {},
   "outputs": [
    {
     "name": "stdout",
     "output_type": "stream",
     "text": [
      "kenny 1\n",
      "kenny 2\n",
      "linda 1\n",
      "linda 2\n"
     ]
    }
   ],
   "source": [
    "names = ['kenny', 'linda']\n",
    "for name in names:\n",
    "    for number in [1,2]:\n",
    "        print(name, number)"
   ]
  },
  {
   "attachments": {},
   "cell_type": "markdown",
   "metadata": {},
   "source": [
    "Assignment:for loops- party invitations\n",
    " -\n"
   ]
  },
  {
   "cell_type": "code",
   "execution_count": 157,
   "metadata": {},
   "outputs": [
    {
     "name": "stdout",
     "output_type": "stream",
     "text": [
      "John Cleese! You are invited to my birthday party on Sunday\n",
      "Eric Idle! You are invited to my birthday party on Sunday\n",
      "Michael! You are invited to my birthday party on Sunday\n",
      "John Jay ! You are invited to my birthday party on Sunday\n",
      "Jeremy Lee! You are invited to my birthday party on Sunday\n"
     ]
    }
   ],
   "source": [
    "names = ['john ClEEse','Eric IDLE','michael']\n",
    "names1 = ['graHam chapman', 'TERRY', 'terry jones']\n",
    "msg='You are invited to my birthday party on Sunday'\n",
    "#names.extend(names1)\n",
    "f'{names} {names1}'\n",
    "#names = names + names1\n",
    "for index in range(2): \n",
    "     names.append (input('Enter a new name: '))\n",
    "\n",
    "for name in names: \n",
    "    #msg1=(f'{name.title()}! {msg}')\n",
    "    msg1 = name.title() + '! ' + msg\n",
    "\n",
    "    print(msg1)"
   ]
  },
  {
   "attachments": {},
   "cell_type": "markdown",
   "metadata": {},
   "source": [
    "The enumerate function:its a function that helps to number a list. it helps to modify a variable and addd  counter to it"
   ]
  },
  {
   "cell_type": "code",
   "execution_count": 3,
   "metadata": {},
   "outputs": [
    {
     "name": "stdout",
     "output_type": "stream",
     "text": [
      "python101 - Enumerate\n",
      "51 Brian\n",
      "52 Judith\n",
      "53 Reg\n",
      "54 Loretta\n",
      "55 Colin\n"
     ]
    }
   ],
   "source": [
    "print('python101 - Enumerate')\n",
    "friends = ['Brian', 'Judith', 'Reg', 'Loretta', 'Colin']\n",
    "\n",
    "#i = 1\n",
    "#for friend in friends:\n",
    "    #print(i, friend)\n",
    "    #i = i +1 # += 1\n",
    "#for enumerate function it helps to number the list instead of using an iterator\n",
    "for num, friend in enumerate(friends,51):\n",
    "    print(num, friend)\n",
    "#enumerate is also if we want to add a counter on a code and makes them into a tuple \n"
   ]
  },
  {
   "cell_type": "code",
   "execution_count": 13,
   "metadata": {},
   "outputs": [
    {
     "name": "stdout",
     "output_type": "stream",
     "text": [
      "51 Brian\n",
      "52 Judith\n",
      "53 Reg\n",
      "54 Loretta\n",
      "55 Colin\n",
      "(51, 'Brian')\n",
      "(52, 'Judith')\n",
      "(53, 'Reg')\n",
      "(54, 'Loretta')\n",
      "(55, 'Colin')\n",
      "(-100, (51, 'Brian'))\n",
      "(-99, (52, 'Judith'))\n",
      "(-98, (53, 'Reg'))\n",
      "(-97, (54, 'Loretta'))\n",
      "(-96, (55, 'Colin'))\n",
      "5 k\n",
      "6 e\n",
      "7 n\n",
      "8 n\n",
      "9 y\n",
      "<class 'enumerate'>\n",
      "[(0, 'Brian'), (1, 'Judith'), (2, 'Reg'), (3, 'Loretta'), (4, 'Colin')]\n"
     ]
    }
   ],
   "source": [
    "for num, friend in enumerate(friends,51):\n",
    "    print(num, friend)\n",
    "for friend in enumerate(friends,51):\n",
    "    print(friend)\n",
    "for friend in enumerate(enumerate(friends,51),-100):\n",
    "    print(friend)   \n",
    "for num, letter in enumerate('kenny',start = 5):\n",
    "    print(num, letter)\n",
    "print(type(enumerate(friends)))\n",
    "print(list(enumerate(friends)))"
   ]
  },
  {
   "cell_type": "code",
   "execution_count": 11,
   "metadata": {},
   "outputs": [
    {
     "name": "stdout",
     "output_type": "stream",
     "text": [
      "Weekday.THURSDAY\n"
     ]
    }
   ],
   "source": [
    "from enum import Enum\n",
    "class Weekday(Enum):\n",
    "    MONDAY = 1\n",
    "    TUESDAY = 2\n",
    "    WEDNESDAY = 3\n",
    "    THURSDAY = 4\n",
    "    FRIDAY = 5\n",
    "    SATURDAY = 6\n",
    "    SUNDAY = 7\n",
    "Weekday(7)\n",
    "print(Weekday.THURSDAY)"
   ]
  },
  {
   "attachments": {},
   "cell_type": "markdown",
   "metadata": {},
   "source": [
    "Sort() and sorted\n",
    "sort() and sorted()\n",
    "web\n",
    "›\n",
    "Immutability and return values"
   ]
  },
  {
   "cell_type": "code",
   "execution_count": 30,
   "metadata": {},
   "outputs": [
    {
     "name": "stdout",
     "output_type": "stream",
     "text": [
      "[1, 2, 3, 5, 7]\n",
      "None\n",
      "[1, 2, 3, 5, 7] original\n",
      "<list_reverseiterator object at 0x0000017606745AE0>\n",
      "None\n",
      "['a', 'b', 'c', 'd', 'e']\n",
      "('d', 'c', 'e', 'a', 'b') original\n",
      "['h', 'n', 'o', 'p', 't', 'y']\n",
      "python original\n",
      "[('add', 3), ('bee', 1), ('car', 4), ('dog', 2)]\n",
      "{'car': 4, 'dog': 2, 'add': 3, 'bee': 1} new\n",
      "[4, 3, 2, 1]\n"
     ]
    }
   ],
   "source": [
    "my_list = [1,5,3,7,2]\n",
    "my_dict = {'car':4,'dog':2,'add':3,'bee':1}\n",
    "my_tuple = ('d','c','e','a','b')\n",
    "my_string = 'python'\n",
    "print(sorted(my_list))\n",
    "print(my_list.sort())\n",
    "print(my_list, 'original')\n",
    "print(reversed(my_list))\n",
    "#print(my_list, 'new')\n",
    "print(sorted(my_tuple)) # when we sort my tuple it \n",
    "print(my_tuple, 'original')\n",
    "print(sorted(my_string))\n",
    "print(my_string, 'original')\n",
    "print(sorted(my_dict.items()))\n",
    "print(my_dict, 'new')\n",
    "print(sorted(my_dict.values(), reverse=True))"
   ]
  },
  {
   "cell_type": "code",
   "execution_count": 46,
   "metadata": {},
   "outputs": [
    {
     "name": "stdout",
     "output_type": "stream",
     "text": [
      "[1, -2, -3, 5, 7]\n",
      "[['bee', 1, 24], ['dog', 2, 30], ['add', 3, 10], ['car', 4, 65]]\n"
     ]
    }
   ],
   "source": [
    "#print(list(reversed(my_list))) #reversed just flips the list\n",
    "#print(my_list[::-1]) # this slicing just flips the list doesnt sort\n",
    "#we will be writing the key feature using a new list below.\n",
    "my_list = [1,5,-3,7,-2]\n",
    "my_llist=[['car',4,65],['dog',2,30],['add',3,10],['bee',1,24]]\n",
    "#print(sorted(my_list)) this wont sort it out properly because it has negative on it but we can use the key feture with abs=absolute\n",
    "print(sorted(my_list, key = abs)) #this will now be sorted inorder whether is positive or negative\n",
    "#lambda fuctions are a throwaway functions that we can write on one line\n",
    "print(sorted(my_llist, key = lambda item : item[7]))\n"
   ]
  },
  {
   "attachments": {},
   "cell_type": "markdown",
   "metadata": {},
   "source": [
    "Dictionaries: they are like the other diictionaries, you look up a word thats the key, the meaning of the word is called the value eg key =jan:january=value\n",
    " we will use new movie dictionary or the company dictionary. something that someone can look up and get the value. there must be a comma at the end of each string\n"
   ]
  },
  {
   "cell_type": "code",
   "execution_count": 54,
   "metadata": {},
   "outputs": [
    {
     "name": "stdout",
     "output_type": "stream",
     "text": [
      "{'title': 'Evan almighty', 'theme': \"Noah's flood\", 'year': 1965}\n"
     ]
    }
   ],
   "source": [
    "movie ={\n",
    "    'title' : 'Evan almighty',\n",
    "    'theme' : \"Noah's flood\",\n",
    "    'year' : 1965,\n",
    "    'producer' : 'AJ'\n",
    "}\n",
    "\n",
    "print(movie)"
   ]
  },
  {
   "cell_type": "code",
   "execution_count": 56,
   "metadata": {},
   "outputs": [
    {
     "name": "stdout",
     "output_type": "stream",
     "text": [
      "Evan almighty\n",
      "1965\n",
      "Noah's flood\n",
      "The book\n"
     ]
    }
   ],
   "source": [
    "print(movie['title'])\n",
    "print(movie['year'])\n",
    "print(movie['theme'])\n",
    "# To include a new dictionary this is how to\n",
    "movie['budget'] = 'The book'\n",
    "#print(movie.get['budget'] = '')\n",
    "print(movie.get('budget'))\n"
   ]
  },
  {
   "cell_type": "code",
   "execution_count": 46,
   "metadata": {},
   "outputs": [
    {
     "name": "stdout",
     "output_type": "stream",
     "text": [
      "{'title': 'Evan almighty', 'theme': \"Noah's flood\", 'year': 1965, 'producer': 'AJ', 'cast': ['John', 'Eric', 'Michael', 'George', 'Terry']}\n",
      "dict_items([('title', 'Evan almighty'), ('theme', \"Noah's flood\"), ('year', 1965), ('producer', 'AJ'), ('cast', ['John', 'Eric', 'Michael', 'George', 'Terry'])])\n"
     ]
    }
   ],
   "source": [
    "\n",
    "movie = {\n",
    "    'title' : 'Evan almighty',\n",
    "    'theme' : \"Noah's flood\",\n",
    "    'year' : 1965,\n",
    "    'producer' : 'AJ',\n",
    "    'cast' : ['John','Eric','Michael','George','Terry']\n",
    "}\n",
    "#movie['title']='the holy matrimony'\n",
    "#movie['budget']= 13000\n",
    "\n",
    "# below we print the whole dictionary print(movie.get('title')) \n",
    "print(movie) #we use the pop command \n",
    "\n",
    "print(movie.items())"
   ]
  },
  {
   "cell_type": "code",
   "execution_count": 47,
   "metadata": {},
   "outputs": [
    {
     "name": "stdout",
     "output_type": "stream",
     "text": [
      "{'title': 'the submissive wife', 'theme': 'plateau flood', 'year': 1965, 'producer': 'AJ', 'cast': ['kenny', 'kosi', 'chisom', 'humble']}\n",
      "1965\n"
     ]
    }
   ],
   "source": [
    "movie.update({'title': 'the submissive wife', 'theme': \"plateau flood\", 'year': 1965, 'producer': 'AJ', 'budget': 13000, 'cast' : ['kenny' , 'kosi' , 'chisom' , 'humble']})\n",
    "del  movie['budget'] \n",
    "#the del command is used for deleting a value and key\n",
    "print(movie)\n",
    "#we use the pop command to add back a value that was deleted\n",
    "year = movie.pop('year')\n",
    "print(year)\n",
    "\n"
   ]
  },
  {
   "cell_type": "code",
   "execution_count": 35,
   "metadata": {},
   "outputs": [
    {
     "name": "stdout",
     "output_type": "stream",
     "text": [
      "dict_values(['Life of Brian', 1979, ['John', 'Eric', 'Michael', 'George', 'Terry']])\n"
     ]
    }
   ],
   "source": [
    "movie = {\n",
    "    'title' : 'Life of Brian',\n",
    "    'year' : 1979,\n",
    "    'cast' : ['John','Eric','Michael','George','Terry']\n",
    "}\n",
    "\n",
    "print(movie.values())\n"
   ]
  },
  {
   "cell_type": "code",
   "execution_count": 44,
   "metadata": {},
   "outputs": [
    {
     "name": "stdout",
     "output_type": "stream",
     "text": [
      "title Evan almighty\n",
      "theme Noah's flood\n",
      "year 1965\n",
      "producer AJ\n",
      "cast ['John', 'Eric', 'Michael', 'George', 'Terry']\n"
     ]
    }
   ],
   "source": [
    "movie = {\n",
    "    'title' : 'Evan almighty',\n",
    "    'theme' : \"Noah's flood\",\n",
    "    'year' : 1965,\n",
    "    'producer' : 'AJ',\n",
    "    'cast' : ['John','Eric','Michael','George','Terry']\n",
    "}\n",
    "for key, value in movie.items():#when younger \n",
    "    print(key, value)"
   ]
  },
  {
   "cell_type": "code",
   "execution_count": 54,
   "metadata": {},
   "outputs": [
    {
     "name": "stdout",
     "output_type": "stream",
     "text": [
      "True\n",
      "he was not included\n"
     ]
    }
   ],
   "source": [
    "python = {'John':35,'Eric':36,'Michael':35,'Terry':38,'Graham':37,'TerryG':34}\n",
    "holy_grail = {'Arthur':40,'Galahad':35,'Lancelot':39,'Knight of NI':40, 'Zoot':17}\n",
    "life_of_brian = {'Brian':33,'Reg':35,'Stan/Loretta':32,'Biccus Diccus':45}\n",
    "#membership test\n",
    "print('Arthur' in holy_grail)\n",
    "if 'Arthur' not in python:\n",
    "    print('He\\'s not here!')\n",
    "\n",
    "\n"
   ]
  },
  {
   "attachments": {},
   "cell_type": "markdown",
   "metadata": {},
   "source": [
    "The different  methods of concatenating a dictionary :1, update \n",
    "2, comprehension\n",
    "3, unpacking this works for python "
   ]
  },
  {
   "cell_type": "code",
   "execution_count": 93,
   "metadata": {},
   "outputs": [
    {
     "name": "stdout",
     "output_type": "stream",
     "text": [
      "[('Arthur', 40), ('Biccus Diccus', 45), ('Brian', 33), ('Eric', 36), ('Galahad', 35), ('Graham', 37), ('John', 35), ('Knight of NI', 40), ('Lancelot', 39), ('Michael', 35), ('Reg', 35), ('Stan/Loretta', 32), ('Terry', 38), ('TerryG', 34), ('Zoot', 17)]\n",
      "[17, 32, 33, 34, 35, 35, 35, 35, 36, 37, 38, 39, 40, 40, 45]\n",
      "the sum of chocolate:  531\n"
     ]
    }
   ],
   "source": [
    "people = {}\n",
    "people1 = {}\n",
    "people2 = {}\n",
    "#method 1 update\n",
    "people.update(python)\n",
    "people.update(holy_grail)\n",
    "people.update(life_of_brian)\n",
    "print(sorted(people.items()))\n",
    "#method 2 comprehension\n",
    "for groups in (python,holy_grail,life_of_brian) : people1.update(groups)\n",
    "print(sorted(people1.items()))\n",
    "#method 3 unpacking 3.5 later\n",
    "people2 = {**python,**holy_grail,**life_of_brian}\n",
    "print(sorted(people2.items())) "
   ]
  },
  {
   "attachments": {},
   "cell_type": "markdown",
   "metadata": {},
   "source": [
    "Excercise"
   ]
  },
  {
   "cell_type": "code",
   "execution_count": 11,
   "metadata": {},
   "outputs": [
    {
     "name": "stdout",
     "output_type": "stream",
     "text": [
      "Morning inventory of stores [('biccus diccus', 100), ('black knight', 20), ('blue parrot', 10), ('brian', 70), ('catapult', 75), ('french castle', 400), ('german joke', 5), ('grim reaper', 500), ('minstrel', -15), ('newt', 2), ('scythe', 150), ('white rabbit', 5), ('wooden grail', 3)]\n",
      "----------------\n",
      "You Purchased grim reaper, german joke, newt. Your total is 507 GP.Your change is 493GP. Have a nice day of mayhem!\n",
      "You Purchased grim reaper:500 Gp,german joke:5 Gp,newt:2 Gp,. Your total is 507 GP.Your change is 493GP. Have a nice day of mayhem!\n",
      "----------------\n",
      "Evening inventory of stores [('biccus diccus', 100), ('black knight', 20), ('blue parrot', 10), ('brian', 70), ('catapult', 75), ('french castle', 400), ('minstrel', -15), ('scythe', 150), ('white rabbit', 5), ('wooden grail', 3)]\n"
     ]
    }
   ],
   "source": [
    "#It’s...not really an adventure game...#Ver 1.0\n",
    "#Your village is being attacked by 'a germanic tribe' and you need to run to the stores and get the right things to save your village, and probably some good looking girl or boy you want to marry. All prices in gold pieces excl. VAT... chop chop!! ze germanz are coming!\n",
    "#The code should allow you to get 1 thing from each store and each item you get should be removed from the store inventory, then do same for next store...\n",
    "# one way to buy by typing the key 'newt' in an input box...or something\n",
    "# at end you should print the 'items' you have taken..in this version you don't have to pay for stuff or add it up\n",
    "#ver 1.2 add ability to exit a store without buying and go to next by typing 'exit', and to exit if a nonexistant item is bought(typed)\n",
    "#Add purse with 1000 gold pieces and payment for the items during or at end of code and show a message about total cost and how much gold you have left\n",
    "#ver 1.4 random bug fix, ' browser compatability', refactoring code... basically being lazy ..stop scrolling TikTok/Facebook! ;-)\n",
    "#Ver 1.5 print inventory before and after purchases as one department_store of stuff(combine inventories from all stores into one...pretend Big Biz bought all the local stores, and want constant reporting for inventory management...)\n",
    "# as in all games there is a special way to do this that actually makes money and solves the problem...can you find 'them'? Do you know why? May require knowledge of actual python 'lore'\n",
    "#create stores\n",
    "freelancers = {'name':'freelancing Shop','brian': 70, 'black knight':20, 'biccus diccus':100, 'grim reaper':500, 'minstrel':-15}\n",
    "antiques = {'name':'Antique Shop','french castle':400, 'wooden grail':3, 'scythe':150, 'catapult':75, 'german joke':5}\n",
    "pet_shop = {'name':'Pet Shop','blue parrot':10, 'white rabbit':5, 'newt': 2}\n",
    "#create an dempty shopping cart\n",
    "#morning_inventory\n",
    "department_store= {}\n",
    "for department in (freelancers,antiques,pet_shop):department_store.update(department)\n",
    "department_store.pop('name')\n",
    "print('Morning inventory of stores', sorted(department_store.items()))\n",
    "print(\"----------------\")\n",
    "\n",
    "\n",
    "cart = {}\n",
    "#create a purse with a thousand gold pieces\n",
    "purse = 1000\n",
    "buy_items1 = ''\n",
    "#loop through stores/dicts\n",
    "for shops in (freelancers,antiques,pet_shop) :\n",
    "    #inputbox  to show what you can buy...capture textstring of what was bought...make lowercase\n",
    "    buy_item = input(f'Welcome to {shops['name']}!(type exit to exit store) what do you want to buy: {shops}').lower()\n",
    "    #exit on exit typed or buying non-existtant item\n",
    "    if buy_item=='exit':\n",
    "        continue\n",
    "    if buy_item not in shops:\n",
    "        continue\n",
    "    #update the string\n",
    "    buy_items1 = buy_items1 + f'{buy_item}:{shops[buy_item]} Gp,'\n",
    "    #update the cart.\n",
    "    cart.update({buy_item:shops.pop(buy_item)}) # use pop...\n",
    "    buy_items =\", \".join(list(cart.keys()))\n",
    "    total_sum = sum(cart.values())\n",
    "\n",
    "print(f'You Purchased {buy_items}. Your total is {total_sum} GP.Your change is {purse - total_sum}GP. Have a nice day of mayhem!')\n",
    "print(f'You Purchased {buy_items1}. Your total is {total_sum} GP.Your change is {purse - total_sum}GP. Have a nice day of mayhem!')\n",
    "#evening inventory\n",
    "department_store_after= {**freelancers, **antiques, **pet_shop}#\n",
    "department_store_after.pop('name')\n",
    "print(\"----------------\")\n",
    "print('Evening inventory of stores', sorted(department_store_after.items()))\n",
    "\n"
   ]
  },
  {
   "attachments": {},
   "cell_type": "markdown",
   "metadata": {},
   "source": [
    "Error handling  in python: using the Try and except command"
   ]
  },
  {
   "cell_type": "code",
   "execution_count": 20,
   "metadata": {},
   "outputs": [
    {
     "name": "stdout",
     "output_type": "stream",
     "text": [
      "36 : bad value is not between 1 and 30 \n",
      "thank you for playing\n"
     ]
    }
   ],
   "source": [
    "#try:\n",
    "    #code you want to run\n",
    "#except:\n",
    "    #executed if error occurs\n",
    "#else:\n",
    "    #executed if no error\n",
    "#finally:\n",
    "    #always executed \n",
    "\n",
    "try:\n",
    "    num=int(input('Enter a number between 1 and 30: '))\n",
    "    num1= 30/num\n",
    "    if num > 30:\n",
    "        raise ValueError(num)\n",
    "except ZeroDivisionError as error:\n",
    "    print(error,\":\",'you cant divide by Zero')\n",
    "except ValueError as error:\n",
    "    print(error, ':', \"bad value is not between 1 and 30 \")\n",
    "else:\n",
    "    print(\"30 divided by\",num, \"is: \", 30/num)\n",
    "finally:\n",
    "    print('thank you for playing')"
   ]
  },
  {
   "attachments": {},
   "cell_type": "markdown",
   "metadata": {},
   "source": [
    "A class is a customized data types like strings, booleans,\n",
    "classes are a representation of the abstract concepts: when we name a class , it starts with capitalization eg class New age"
   ]
  },
  {
   "cell_type": "code",
   "execution_count": 29,
   "metadata": {},
   "outputs": [
    {
     "name": "stdout",
     "output_type": "stream",
     "text": [
      "love\n",
      "Evan almighty life of brian\n"
     ]
    }
   ],
   "source": [
    "#Classes are blueprints\n",
    "#Objects are the actual things you built\n",
    "#variables => attributes\n",
    "#functions => methods\n",
    "#self refers to the object that was created\n",
    "\n",
    "class Movie:# give it some variables which is called attributes\n",
    "    def __init__(self,title,year,imdb_score,have_seen):\n",
    "        self.title = title\n",
    "        self.year = year #self refers to the object we are creating\n",
    "        self.imdb_score = imdb_score\n",
    "        self.have_seen = have_seen\n",
    "\n",
    "    def __init__(nice,title,theme,group,colour):\n",
    "        nice.title = title\n",
    "        nice.theme = theme\n",
    "        nice.group = group\n",
    "        nice.colour = colour\n",
    "    \n",
    "    def john_print(self):\n",
    "        print(\"Title: \", self.title)\n",
    "        print(\"Year of production: \", self.year)\n",
    "        print(\"IMDB Score: \", self.imdb_score)\n",
    "        print(\"I have seen it: \", self.have_seen)\n",
    "\n",
    "    \n",
    "\n",
    "film_1= Movie('life of brian',1987,8.1,True)\n",
    "film_2= Movie('Evan almighty',1977,9.1,False)\n",
    "film2 = Movie('father\\'s love','love','actimize team','red')\n",
    "\n",
    "#print(film_1.title, film_2.year)\n",
    "#film_2.john_print()\n",
    "#Movie.john_print(film_1) #self always reference to the object that is active at the moment\n",
    "print(film2.theme) \n",
    "films = [film_1,film_2]\n",
    "print(films[1].title,films[0].title)\n",
    "films[0]"
   ]
  },
  {
   "cell_type": "code",
   "execution_count": 35,
   "metadata": {},
   "outputs": [
    {
     "name": "stdout",
     "output_type": "stream",
     "text": [
      "fight with ada\n",
      "Moves 8 paces\n"
     ]
    }
   ],
   "source": [
    "#CLASS INHERITANCE IS WHEN I HAVE A CLASS EG A CAR AND THEN I HAVE ANOTHER CLASS WHICH WILL INHERIT THE ATTRIBUTES OF THAT CAR\n",
    "class Person:#intial class\n",
    "    def move(self):\n",
    "        print(\"Moves 4 paces\")\n",
    "    def rest(self):\n",
    "        print(\"Gains 4 health points\")\n",
    "class Doctor(Person):# the doctor inherits every value that comes with the person class\n",
    "    def heal(self):\n",
    "        print(\"Heals the old patient\")\n",
    "class Fighter(Person):\n",
    "    def fight(self):\n",
    "        print('fight with ada')\n",
    "    def move(self):\n",
    "        print(\"Moves 8 paces\")\n",
    "class Baby(Doctor,Fighter):\n",
    "    def cry_baby(self):\n",
    "        print('eat food')\n",
    "    def sleep_baby(self):\n",
    "        print(\"sleep after eating\")\n",
    "        \n",
    "character1=Baby()\n",
    "character1.fight()\n",
    "character1.move()  "
   ]
  },
  {
   "cell_type": "code",
   "execution_count": 1,
   "metadata": {},
   "outputs": [
    {
     "name": "stdout",
     "output_type": "stream",
     "text": [
      "3.12.4\n",
      "Windows\n"
     ]
    }
   ],
   "source": [
    "#MODULES : CHECK OUT THE BELOW URL ON MODULES\n",
    "# https://docs.python.org/3/py-modindex.html \n",
    "from platform import python_version,system #frm the python modules you can import the type of module i want\n",
    "\n",
    "print(python_version())\n",
    "print(system())"
   ]
  },
  {
   "cell_type": "code",
   "execution_count": 2,
   "metadata": {},
   "outputs": [
    {
     "name": "stdout",
     "output_type": "stream",
     "text": [
      "{1: 'a', 2: 'b', 3: 'c', 4: 'd'}\n"
     ]
    }
   ],
   "source": [
    "# Zip/ Unzip\n",
    "nums = [1,2,3,4] \n",
    "letters = ['a','b','c','d']\n",
    "names =['John','Eric','Michael','Graham','Joe']\n",
    "combo = dict(zip(nums,letters))\n",
    "print(combo)"
   ]
  },
  {
   "cell_type": "code",
   "execution_count": 3,
   "metadata": {},
   "outputs": [
    {
     "name": "stdout",
     "output_type": "stream",
     "text": [
      "[(1, 'a', 'John'), (2, 'b', 'Eric'), (3, 'c', 'Michael'), (4, 'd', 'Graham')]\n"
     ]
    }
   ],
   "source": [
    "combo = list(zip(nums,letters,names))\n",
    "print(combo)"
   ]
  },
  {
   "cell_type": "code",
   "execution_count": 4,
   "metadata": {},
   "outputs": [
    {
     "name": "stdout",
     "output_type": "stream",
     "text": [
      "(1, 2, 3, 4) ('a', 'b', 'c', 'd') ('John', 'Eric', 'Michael', 'Graham')\n"
     ]
    }
   ],
   "source": [
    "# to unzip You put xteris\n",
    "nu,le,na = zip(*combo)\n",
    "print(nu,le,na)"
   ]
  },
  {
   "cell_type": "code",
   "execution_count": 10,
   "metadata": {},
   "outputs": [
    {
     "name": "stdout",
     "output_type": "stream",
     "text": [
      "['this', 'parrot', 'is', 'deceased'] ['denna', 'papegojan', 'är', 'avliden']\n",
      "{'this': 'denna', 'parrot': 'papegojan', 'is': 'är', 'deceased': 'avliden'}\n",
      "{'this': 'denna', 'parrot': 'papegojan', 'is': 'är', 'deceased': 'avliden'}\n",
      "['this', 'parrot', 'is', 'deceased'] ['denna', 'papegojan', 'är', 'avliden']\n",
      "('this', 'parrot', 'is', 'deceased') ('denna', 'papegojan', 'är', 'avliden')\n"
     ]
    }
   ],
   "source": [
    "keys = 'this parrot is deceased'\n",
    "values = 'denna papegojan är avliden'\n",
    "keys = keys.split()\n",
    "values = values.split()\n",
    "print(keys,values)\n",
    "en_sv_dict =dict(zip(keys,values))\n",
    "print(en_sv_dict)\n",
    "# another way \n",
    "new_dict={key:value for key,value in zip(keys,values)}\n",
    "print(new_dict)\n",
    "en,sv= list(en_sv_dict.keys()),list(en_sv_dict.values())\n",
    "print(en,sv)\n",
    "en1,sv1= list(zip(*en_sv_dict.items()))\n",
    "print(en1,sv1)"
   ]
  },
  {
   "attachments": {},
   "cell_type": "markdown",
   "metadata": {},
   "source": [
    "lamda or anonymous functions is an expression that can be anonymous and be done in one line\n",
    "eg. name =lambda x: x*y\n",
    "print(name)\n",
    "There are different ways to write lamda functions"
   ]
  },
  {
   "cell_type": "code",
   "execution_count": 7,
   "metadata": {},
   "outputs": [
    {
     "name": "stdout",
     "output_type": "stream",
     "text": [
      "16\n",
      "10\n"
     ]
    }
   ],
   "source": [
    "def square(x):\n",
    "    return x*x\n",
    "#name = lambda parameter(s): expression (formular for lambda)\n",
    "print(square(4))\n",
    "#def square2(x):return x*x(another way of writing a function)\n",
    "#print(square2(3))\n",
    "# we can write the lambda function like these\n",
    "squre1 = lambda e: e+e\n",
    "print(squre1(5))"
   ]
  },
  {
   "cell_type": "code",
   "execution_count": 8,
   "metadata": {},
   "outputs": [
    {
     "name": "stdout",
     "output_type": "stream",
     "text": [
      "12\n"
     ]
    }
   ],
   "source": [
    "double_mult = lambda x,y: 2*x*y\n",
    "print(double_mult(2,3))"
   ]
  },
  {
   "cell_type": "code",
   "execution_count": 20,
   "metadata": {},
   "outputs": [
    {
     "name": "stdout",
     "output_type": "stream",
     "text": [
      "John oraka:Kenny\n"
     ]
    }
   ],
   "source": [
    "def name_and_alias(name,alias):\n",
    "    return name.strip().capitalize() + ':' + alias.strip().title()\n",
    "#name_and_alias1 = lambda name,alias : {name.strip().title()} {':'} {alias.strip().title()}\n",
    "print(name_and_alias('john ORAka','kENNY'))"
   ]
  },
  {
   "cell_type": "code",
   "execution_count": 22,
   "metadata": {},
   "outputs": [
    {
     "name": "stdout",
     "output_type": "stream",
     "text": [
      "John oraka:Kenny\n"
     ]
    }
   ],
   "source": [
    "name_and_alias1 = lambda name,alias : name.strip().capitalize() + ':' + alias.strip().title()\n",
    "print(name_and_alias('john ORAka','kENNY'))"
   ]
  },
  {
   "cell_type": "code",
   "execution_count": 23,
   "metadata": {},
   "outputs": [
    {
     "name": "stdout",
     "output_type": "stream",
     "text": [
      "John oraka:Kenny\n"
     ]
    }
   ],
   "source": [
    "def name_and_alias2(name,alias):return name.strip().title() + ':' + alias.strip().title()\n",
    "print(name_and_alias('john ORAka','kENNY'))"
   ]
  },
  {
   "attachments": {},
   "cell_type": "markdown",
   "metadata": {},
   "source": [
    "the differnt ways to write functions using normal functions and lambda function getting same results"
   ]
  },
  {
   "cell_type": "code",
   "execution_count": 24,
   "metadata": {},
   "outputs": [
    {
     "name": "stdout",
     "output_type": "stream",
     "text": [
      "['Eric Idle', 'Graham Arthur Chapman', 'John Marwood Cleese', 'Michael Edward Palin', 'Terrence Vance Gilliam', 'Terry Graham Perry Jones']\n"
     ]
    }
   ],
   "source": [
    "monty_python = ['John Marwood Cleese','Eric Idle','Michael Edward Palin','Terrence Vance Gilliam','Terry Graham Perry Jones', 'Graham Arthur Chapman']\n",
    "monty_python.sort(key =lambda name:name.split(' '))\n",
    "print(monty_python)"
   ]
  },
  {
   "cell_type": "code",
   "execution_count": 30,
   "metadata": {},
   "outputs": [
    {
     "name": "stdout",
     "output_type": "stream",
     "text": [
      "['Eric Idle', 'Graham Arthur Chapman', 'John Marwood Cleese', 'Michael Edward Palin', 'Terrence Vance Gilliam', 'Terry Graham Perry Jones']\n"
     ]
    }
   ],
   "source": [
    "def sort_names(name):\n",
    "    return name.split(' ')\n",
    "monty_python.sort(key= sort_names)\n",
    "print(monty_python)\n"
   ]
  },
  {
   "attachments": {},
   "cell_type": "markdown",
   "metadata": {},
   "source": [
    "lambda fuction can be used for calculation"
   ]
  },
  {
   "cell_type": "code",
   "execution_count": 37,
   "metadata": {},
   "outputs": [
    {
     "name": "stdout",
     "output_type": "stream",
     "text": [
      "24\n",
      "5\n",
      "<class 'function'>\n"
     ]
    }
   ],
   "source": [
    "def spike(y):\n",
    "    return lambda a: a*y\n",
    "doubler = spike(4)\n",
    "print (doubler(6))\n",
    "quntipler= spike(5)\n",
    "print(quntipler(1))\n",
    "print(type(spike(6)))"
   ]
  },
  {
   "cell_type": "code",
   "execution_count": 39,
   "metadata": {},
   "outputs": [
    {
     "name": "stdout",
     "output_type": "stream",
     "text": [
      "9\n"
     ]
    }
   ],
   "source": [
    "def price_calc(start,hourly_rate):\n",
    "    return lambda hours: start + hourly_rate * hours\n",
    "    \n",
    "walkin_cost = price_calc(10,30)\n",
    "premium_cost = price_calc(1,25)\n",
    "print(walkin_cost(2))\n",
    "print(premium_cost(2))\n",
    "print(price_calc(1,25)(2))\n",
    "# the different ways of doing lambda function\n",
    "print((lambda a,b,c: a+b+c)(2,3,4))\n",
    "print((lambda a,b,c=2: a+b+c)(2,3,4))\n",
    "print((lambda a,b,c=2: a+b+c)(2,c=3,b=4))\n",
    "print((lambda *args: sum(args))(2,3,4,50))"
   ]
  },
  {
   "attachments": {},
   "cell_type": "markdown",
   "metadata": {},
   "source": [
    "Excercise"
   ]
  },
  {
   "cell_type": "code",
   "execution_count": 40,
   "metadata": {},
   "outputs": [
    {
     "name": "stdout",
     "output_type": "stream",
     "text": [
      "7\n"
     ]
    }
   ],
   "source": [
    "f = lambda x : x + 5\n",
    "#insert equivalent lambda here\n",
    "print(f(2))\n"
   ]
  },
  {
   "cell_type": "code",
   "execution_count": 5,
   "metadata": {},
   "outputs": [
    {
     "name": "stdout",
     "output_type": "stream",
     "text": [
      "MontyPythonsFlyingCircus\n"
     ]
    }
   ],
   "source": [
    "strip_spaces1 = lambda str : ''.join(str.split(' '))\n",
    "print(strip_spaces1('Monty Pythons Flying Circus'))"
   ]
  },
  {
   "cell_type": "code",
   "execution_count": 8,
   "metadata": {},
   "outputs": [
    {
     "name": "stdout",
     "output_type": "stream",
     "text": [
      "MontyPythonsFlyingCircus\n"
     ]
    }
   ],
   "source": [
    "def strip_spaces(str):\n",
    "    return ''.join(str.split(' '))\n",
    "strip_spaces1 = lambda str :''.join(str.split(' '))\n",
    "print(strip_spaces('Monty Pythons Flying Circus')) "
   ]
  },
  {
   "cell_type": "code",
   "execution_count": 11,
   "metadata": {},
   "outputs": [
    {
     "name": "stdout",
     "output_type": "stream",
     "text": [
      "[1, 2, 3, 4, 5, 6, 7]\n"
     ]
    }
   ],
   "source": [
    "#def join_list_no_duplicates(list_a,list_b):\n",
    "#   return list(set(list_a + list_b))\n",
    "list_a = [1,2,3,4]\n",
    "list_b = [3,4,5,6,7]\n",
    "#write lambda below \n",
    "join_list_no_duplicates1 = lambda list_a,list_b: list(set(list_a + list_b))\n",
    "print(join_list_no_duplicates1(list_a,list_b)) "
   ]
  },
  {
   "cell_type": "code",
   "execution_count": 46,
   "metadata": {},
   "outputs": [
    {
     "name": "stdout",
     "output_type": "stream",
     "text": [
      "MontyPythonsFlyingCircus\n"
     ]
    }
   ],
   "source": [
    "def strip_spaces(str):\n",
    "   return ''.join(str.split(' '))\n",
    "#write equivalent lambda and insert Lambda here\n",
    "#strip_spaces1 = lambda str:''.join(str.split(' '))  \n",
    "print(strip_spaces('Monty Pythons Flying Circus')) "
   ]
  },
  {
   "cell_type": "code",
   "execution_count": 19,
   "metadata": {},
   "outputs": [
    {
     "name": "stdout",
     "output_type": "stream",
     "text": [
      "22\n"
     ]
    }
   ],
   "source": [
    "#Complete the function so it returns a function\n",
    "def create_quad_func(a,b,c,):\n",
    "    '''return function f(x) = ax^2 + bx + c'''\n",
    "    return lambda x:a*x**2 + b*x + c\n",
    "f = create_quad_func(2,4,6)\n",
    "#g = \n",
    "print(f(2))\n",
    "#print(g(2))"
   ]
  },
  {
   "cell_type": "code",
   "execution_count": 20,
   "metadata": {},
   "outputs": [
    {
     "name": "stdout",
     "output_type": "stream",
     "text": [
      "['MPF104', 'MPF17', 'MPF2', 'MPF20', 'MPF3', 'MPF45']\n",
      "['MPF2', 'MPF3', 'MPF17', 'MPF20', 'MPF45', 'MPF104']\n"
     ]
    }
   ],
   "source": [
    "signups = ['MPF104', 'MPF20', 'MPF2', 'MPF17', 'MPF3', 'MPF45']\n",
    "print(sorted(signups)) # Lexicographic sort\n",
    "#write sorting by integer\n",
    "print(sorted(signups,key = lambda id:int(id[3:]))) # Integer sort in decending order"
   ]
  },
  {
   "cell_type": "code",
   "execution_count": null,
   "metadata": {},
   "outputs": [],
   "source": [
    "class Player:\n",
    "   def __init__(self, name, score):\n",
    "       self.name = name\n",
    "       self.score =  score\n",
    "\n",
    "Eric = Player('Eric', 116700)\n",
    "John = Player('John', 24327)\n",
    "Terry = Player('Terry', 150000)\n",
    "player_list = [Eric, John, Terry]\n",
    "\n",
    "\n",
    "#Exercise: Sort this by score using lambda!\n",
    "#write code here\n",
    "print([player.name for player in player_list])"
   ]
  },
  {
   "attachments": {},
   "cell_type": "markdown",
   "metadata": {},
   "source": [
    "Comprehension in python\n",
    "this is same as the for loop but it involves less code and its written in single line \n",
    "newlist = [expression for item in iterable if condition == True]\n",
    "The return value is a new list, leaving the old list unchanged."
   ]
  },
  {
   "cell_type": "code",
   "execution_count": 22,
   "metadata": {},
   "outputs": [
    {
     "name": "stdout",
     "output_type": "stream",
     "text": [
      "[1, 4, 9, 16, 25, 36, 49, 64, 81]\n",
      "[1, 4, 9, 16, 25, 36, 49, 64, 81]\n",
      "[1, 3, 5, 7, 9]\n"
     ]
    }
   ],
   "source": [
    "numbers = [1,2,3,4,5,6,7,8,9]\n",
    "# give me a list with num squared for each num in numbers\n",
    "new_list = []\n",
    "for num in numbers:\n",
    "    new_list.append(num*num)\n",
    "print(new_list)\n",
    "# give me a list with num for each num in numbers if num is even \n",
    "new_list = [num*num for num in numbers]\n",
    "print(new_list)\n",
    "\n",
    "new_list = [num for num in numbers if num % 2]\n",
    "print(new_list)\n"
   ]
  },
  {
   "cell_type": "code",
   "execution_count": 26,
   "metadata": {},
   "outputs": [
    {
     "name": "stdout",
     "output_type": "stream",
     "text": [
      "<class 'list'>\n"
     ]
    }
   ],
   "source": [
    "fruits = [\"apple\", \"banana\", \"cherry\", \"kiwi\", \"mango\"]\n",
    "\n",
    "newlist = [x for x in fruits if x != x]\n",
    "\n",
    "print(type(newlist))"
   ]
  },
  {
   "cell_type": "code",
   "execution_count": 36,
   "metadata": {},
   "outputs": [
    {
     "name": "stdout",
     "output_type": "stream",
     "text": [
      "['APPLE', 'BANANA', 'CHERRY', 'KIWI', 'MANGO']\n"
     ]
    }
   ],
   "source": [
    "newlist = [x for x in fruits]\n",
    "newlist1 = [x for x in range(10)]\n",
    "newlist2 = [x for x in range(10) if x < 5]\n",
    "newlist3 = ['hello' for x in fruits]\n",
    "newlist = [x.upper() for x in fruits]\n",
    "newlist0 = [x.upper() for x in fruits]\n",
    "print(newlist0)"
   ]
  },
  {
   "attachments": {},
   "cell_type": "markdown",
   "metadata": {},
   "source": [
    "Comprehension in dictionary"
   ]
  },
  {
   "cell_type": "code",
   "execution_count": 59,
   "metadata": {},
   "outputs": [
    {
     "name": "stdout",
     "output_type": "stream",
     "text": [
      "[('And Now for Something Completely Different', 1971), ('Monty Python and the Holy Grail', 1975), (\"Monty Python's Life of Brian\", 1979), ('Monty Python Live at the Hollywood Bowl', 1982), (\"Monty Python's The Meaning of Life\", 1983), ('Monty Python Live (Mostly)', 2014)]\n",
      "{'And Now for Something Completely Different': 1971, 'Monty Python and the Holy Grail': 1975, \"Monty Python's Life of Brian\": 1979, 'Monty Python Live at the Hollywood Bowl': 1982, \"Monty Python's The Meaning of Life\": 1983, 'Monty Python Live (Mostly)': 2014}\n",
      "{'And Now for Something Completely Different': 1971, 'Monty Python and the Holy Grail': 1975, \"Monty Python's Life of Brian\": 1979, 'Monty Python Live at the Hollywood Bowl': 1982, \"Monty Python's The Meaning of Life\": 1983, 'Monty Python Live (Mostly)': 2014}\n"
     ]
    }
   ],
   "source": [
    "movies = [\"And Now for Something Completely Different\",\"Monty Python and the Holy Grail\",\n",
    "\"Monty Python's Life of Brian\",\"Monty Python Live at the Hollywood Bowl\",\"Monty Python's The Meaning of Life\",\"Monty Python Live (Mostly)\"]\n",
    "year =[1971,1975,1979,1982,1983,2014]\n",
    "names = ['John','Eric','Michael','Graham','Terry','TerryG']\n",
    "print(list(zip(movies, year)))\n",
    "new_dict = dict()\n",
    "for movie,yr in zip(movies,year):\n",
    "    new_dict[movie] = yr\n",
    "print (new_dict)\n",
    "# give me a dict('movies': year) for each movies, year in zip(movies, year)\n",
    "new_dict = {movie:yr for movie,yr in zip(movies,year)}\n",
    "print(new_dict) \n",
    "#{movie:yr for movie,yr in zip(movies,year)}\n",
    "#print(new_dict1)"
   ]
  },
  {
   "cell_type": "code",
   "execution_count": 70,
   "metadata": {},
   "outputs": [
    {
     "name": "stdout",
     "output_type": "stream",
     "text": [
      "[('And Now for Something Completely Different', 1971), ('Monty Python and the Holy Grail', 1975), (\"Monty Python's Life of Brian\", 1979), ('Monty Python Live at the Hollywood Bowl', 1982), (\"Monty Python's The Meaning of Life\", 1983), ('Monty Python Live (Mostly)', 2014)]\n",
      "{'And Now for Something Completely Different': 1971, 'Monty Python and the Holy Grail': 1975, \"Monty Python's Life of Brian\": 1979, 'Monty Python Live at the Hollywood Bowl': 1982, \"Monty Python's The Meaning of Life\": 1983, 'Monty Python Live (Mostly)': 2014}\n",
      "{}\n",
      "[['Johns favorite movie was And Now for Something Completely Different which was produced in the  1971'], ['Erics favorite movie was Monty Python and the Holy Grail which was produced in the  1975'], [\"Michaels favorite movie was Monty Python's Life of Brian which was produced in the  1979\"]]\n"
     ]
    }
   ],
   "source": [
    "# Dictionary comprehensions\n",
    "movies = [\"And Now for Something Completely Different\",\"Monty Python and the Holy Grail\",\n",
    "\"Monty Python's Life of Brian\",\"Monty Python Live at the Hollywood Bowl\",\"Monty Python's The Meaning of Life\",\"Monty Python Live (Mostly)\"]\n",
    "year =[1971,1975,1979,1982,1983,2014]\n",
    "names = ['John','Eric','Michael','Graham','Terry','TerryG']\n",
    "print(list(zip(movies, year)))\n",
    "# give me a dict('movies': year) for each movies, year in zip(movies, year)\n",
    "new_dict = dict()\n",
    "for movie, yr in zip(movies,year):\n",
    "    new_dict[movie] = yr\n",
    "print(new_dict)\n",
    "\n",
    "new_dict = {movie:yr for movie,yr in zip(movies,year) if 'year' < '1983'}\n",
    "print(new_dict)\n",
    "\n",
    "n1 =[[name + \"s favorite movie was \" + movie + ' which was produced in the  ' + str(yr)] for name,movie,yr in zip(names,movies,year) if yr < 1981]\n",
    "print(n1)"
   ]
  },
  {
   "attachments": {},
   "cell_type": "markdown",
   "metadata": {},
   "source": [
    "Randomness in python"
   ]
  },
  {
   "cell_type": "code",
   "execution_count": 99,
   "metadata": {},
   "outputs": [
    {
     "name": "stdout",
     "output_type": "stream",
     "text": [
      "4\n"
     ]
    }
   ],
   "source": [
    "import random, string\n",
    "\n",
    "print(random.randrange(1,6))"
   ]
  },
  {
   "cell_type": "code",
   "execution_count": 113,
   "metadata": {},
   "outputs": [
    {
     "name": "stdout",
     "output_type": "stream",
     "text": [
      "['John', 'Eric']\n",
      "['Graham', 'Terry', 'Eric', 'Michael', 'John']\n",
      "abcdefghijklmnopqrstuvwxyzABCDEFGHIJKLMNOPQRSTUVWXYZ0123456789\n",
      "['k', 'x', 'O', 'Y', 'A', 'a', '1']\n",
      "YHJy6Ze\n"
     ]
    }
   ],
   "source": [
    "import string\n",
    "friends_list =  ['John', 'Eric', 'Michael', 'Terry', 'Graham']\n",
    "print(random.sample(friends_list,2))\n",
    "random.shuffle(friends_list)\n",
    "print(friends_list)\n",
    "smallcaps = 'abcdefghijklmnopqrstuvwxyz'\n",
    "largecaps = 'ABCDEFGHIJKLMNOPQRSTUVWXYZ'\n",
    "digits = '0123456789'\n",
    "letters_numbers = string.ascii_letters + string.digits\n",
    "print(letters_numbers)\n",
    "word = ''\n",
    "for i in range (6):\n",
    "    word =word +random.choice(letters_numbers)\n",
    "word2= ''.join(random.sample(letters_numbers,7))\n",
    "word1 =random.choices(letters_numbers, k=7)\n",
    "print (word1)\n",
    "print (word2)\n",
    "\n"
   ]
  },
  {
   "cell_type": "code",
   "execution_count": 83,
   "metadata": {},
   "outputs": [
    {
     "name": "stdout",
     "output_type": "stream",
     "text": [
      "0.9095186123482684\n",
      "0.5305071788181315\n",
      "4.848691578739016\n",
      "5.890351706935004\n",
      "5.380688397412756\n"
     ]
    }
   ],
   "source": [
    "for i in range(5):\n",
    "    print(random.random()*6)"
   ]
  },
  {
   "cell_type": "code",
   "execution_count": 76,
   "metadata": {},
   "outputs": [
    {
     "name": "stdout",
     "output_type": "stream",
     "text": [
      "65\n",
      " \n"
     ]
    }
   ],
   "source": [
    "ascii_value = ord('A')  # 65\n",
    "print(ascii_value)\n",
    "\n",
    "character = chr(32)  # 'A'\n",
    "print(character)"
   ]
  },
  {
   "attachments": {},
   "cell_type": "markdown",
   "metadata": {},
   "source": [
    "The timeit module is used to check the performance of your Code and the time it used in running."
   ]
  },
  {
   "cell_type": "code",
   "execution_count": 3,
   "metadata": {},
   "outputs": [
    {
     "name": "stdout",
     "output_type": "stream",
     "text": [
      "Performance and Timeit module\n",
      "0.030730500000572647\n",
      "0.025887499999953434\n",
      "0.003095000000030268\n"
     ]
    }
   ],
   "source": [
    "import timeit\n",
    "\n",
    "print('Performance and Timeit module')\n",
    "# Experiment with sieve of Eratosthenes\n",
    "def test1():\n",
    "    [x for x in range(1, 151) if not any([x % y == 0 for y in range(2, x)]) and not x == 1]\n",
    "    return(1)\n",
    "def test2():\n",
    "    [x for x in range(2, 151) if not any([x % y == 0 for y in range(2, x)])]\n",
    "def test3():\n",
    "    # Initialize a list\n",
    "    primes = []\n",
    "    for possiblePrime in range(2, 151):\n",
    "    # Assume number is prime until shown it is not.\n",
    "        isPrime = True\n",
    "        for num in range(2, int(possiblePrime ** 0.5) + 1):\n",
    "            if possiblePrime % num == 0:\n",
    "                isPrime = False\n",
    "                break\n",
    "        if isPrime:\n",
    "            primes.append(possiblePrime)\n",
    "    #print(primes)\n",
    "    return(1)\n",
    "\n",
    "print(timeit.timeit('test1()', globals=globals(), number=10))\n",
    "print(timeit.timeit('test2()', globals=globals(), number=10))\n",
    "print(timeit.timeit('test3()', globals=globals(), number=10))"
   ]
  },
  {
   "cell_type": "code",
   "execution_count": null,
   "metadata": {},
   "outputs": [],
   "source": [
    "print('Project -  Crypto')\n",
    "#create a function\n",
    "def enigma_light():\n",
    "# create keys string\n",
    "    keys = 'abcdefghijklmnopqrstuvwxyz !'\n",
    "# autogenerate the values string by offsetting original string\n",
    "    values = keys[-1] + keys[0:-1]\n",
    "    #print(keys)\n",
    "    #print(values)\n",
    "# create two dictionaries\n",
    "    dict_e = dict(zip(keys,values))\n",
    "    dict_d = dict(zip(values,keys)) \n",
    "# OR create 1 and then flip \n",
    "    #dict_e = dict(zip(keys,values))\n",
    "    #dict_d = {value:key for key, value in dict_e.items()}\n",
    "#user input 'the message' and mode\n",
    "    msg = input('Enter your secret message quietly: ')\n",
    "    mode = input('Crypto mode: encode (e) OR decrypt as default: ')\n",
    "# run encode or decode\n",
    "    if mode.lower() == 'e':\n",
    "        new_msg = ''.join([dict_e[letter] for letter in msg.lower()])\n",
    "    else:\n",
    "        new_msg = ''.join([dict_d[letter] for letter in msg.lower()])\n",
    "    \n",
    "    return new_msg.capitalize()\n",
    "# return result\n",
    "# clean and beautify the code \n",
    "\n",
    "print(enigma_light())"
   ]
  },
  {
   "cell_type": "code",
   "execution_count": 16,
   "metadata": {},
   "outputs": [
    {
     "name": "stdout",
     "output_type": "stream",
     "text": [
      "Project -  Crypto\n",
      "absdhdjhryuhejkeifgaf !\n",
      "fbsdhdjhryuhejkeifg\n",
      "{'a': 'f', 'b': 'b', 's': 's', 'd': 'd', 'h': 'h', 'j': 'j', 'r': 'r', 'y': 'y', 'u': 'u', 'e': 'e', 'k': 'k', 'i': 'i', 'f': 'f', 'g': 'g'}\n"
     ]
    },
    {
     "ename": "NameError",
     "evalue": "name 'msg' is not defined",
     "output_type": "error",
     "traceback": [
      "\u001b[1;31m---------------------------------------------------------------------------\u001b[0m",
      "\u001b[1;31mNameError\u001b[0m                                 Traceback (most recent call last)",
      "Cell \u001b[1;32mIn[16], line 25\u001b[0m\n\u001b[0;32m     23\u001b[0m         \u001b[39mreturn\u001b[39;00m (new_msg)\n\u001b[0;32m     24\u001b[0m \u001b[39m# clean and beautify the code \u001b[39;00m\n\u001b[1;32m---> 25\u001b[0m \u001b[39mprint\u001b[39m(enigma_light())\n",
      "Cell \u001b[1;32mIn[16], line 19\u001b[0m, in \u001b[0;36menigma_light\u001b[1;34m()\u001b[0m\n\u001b[0;32m     17\u001b[0m \u001b[39m# run encode or decode\u001b[39;00m\n\u001b[0;32m     18\u001b[0m     \u001b[39mif\u001b[39;00m mode \u001b[39m==\u001b[39m \u001b[39m'\u001b[39m\u001b[39me\u001b[39m\u001b[39m'\u001b[39m:\n\u001b[1;32m---> 19\u001b[0m         new_msg \u001b[39m=\u001b[39m [dict_e[letter] \u001b[39mfor\u001b[39;00m letter \u001b[39min\u001b[39;00m msg]\n\u001b[0;32m     20\u001b[0m     \u001b[39melse\u001b[39;00m:\n\u001b[0;32m     21\u001b[0m         new_msg \u001b[39m=\u001b[39m [dict_d[letter] \u001b[39mfor\u001b[39;00m letter \u001b[39min\u001b[39;00m msg]\n",
      "\u001b[1;31mNameError\u001b[0m: name 'msg' is not defined"
     ]
    }
   ],
   "source": [
    "print('Project -  Crypto')\n",
    "#create a function\n",
    "def enigma_light():\n",
    "# create keys string\n",
    "    keys = 'absdhdjhryuhejkeifgaf !'\n",
    "# autogenerate the values string by offsetting original string\n",
    "    values = keys[-3] + keys [1:-4]\n",
    "    print(keys)\n",
    "    print(values)\n",
    "# create two dictionaries\n",
    "    dict_e = dict(zip(keys,values))\n",
    "    dict_d = dict(zip(values,keys))\n",
    "    print (dict_e)\n",
    "#user input 'the message' and mode\n",
    "    message = input('Enter your secret message quitely message: ')\n",
    "    mode = input('Crpto mode: encode(e) OR decode as default: ')\n",
    "# run encode or decode\n",
    "    if mode == 'e':\n",
    "        new_msg = [dict_e[letter] for letter in msg]\n",
    "    else:\n",
    "        new_msg = [dict_d[letter] for letter in msg]\n",
    "# return result\n",
    "        return (new_msg)\n",
    "# clean and beautify the code \n",
    "enigma_light()"
   ]
  }
 ],
 "metadata": {
  "kernelspec": {
   "display_name": "Python 3",
   "language": "python",
   "name": "python3"
  },
  "language_info": {
   "codemirror_mode": {
    "name": "ipython",
    "version": 3
   },
   "file_extension": ".py",
   "mimetype": "text/x-python",
   "name": "python",
   "nbconvert_exporter": "python",
   "pygments_lexer": "ipython3",
   "version": "3.12.4"
  }
 },
 "nbformat": 4,
 "nbformat_minor": 2
}
